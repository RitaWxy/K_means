{
 "cells": [
  {
   "cell_type": "markdown",
   "metadata": {},
   "source": [
    "# Fron Dynamic Programming  To ML"
   ]
  },
  {
   "cell_type": "code",
   "execution_count": 13,
   "metadata": {},
   "outputs": [],
   "source": [
    "origin_price = [1,5,8,9,10,17,17,20,24,30,33] # 长度1-11的价格\n",
    "\n",
    "from collections import defaultdict\n",
    "prices = defaultdict(int)\n",
    "\n",
    "for i in range(1,len(origin_price)+1):\n",
    "    prices[i] = origin_price[i-1]\n",
    "    \n",
    "# prices = {i+1: p for i,p in enumerate(origin_price)}"
   ]
  },
  {
   "cell_type": "code",
   "execution_count": 14,
   "metadata": {},
   "outputs": [
    {
     "data": {
      "text/plain": [
       "defaultdict(int,\n",
       "            {1: 1,\n",
       "             2: 5,\n",
       "             3: 8,\n",
       "             4: 9,\n",
       "             5: 10,\n",
       "             6: 17,\n",
       "             7: 17,\n",
       "             8: 20,\n",
       "             9: 24,\n",
       "             10: 30,\n",
       "             11: 33})"
      ]
     },
     "execution_count": 14,
     "metadata": {},
     "output_type": "execute_result"
    }
   ],
   "source": [
    "prices"
   ]
  },
  {
   "cell_type": "code",
   "execution_count": 15,
   "metadata": {},
   "outputs": [],
   "source": [
    "solution = {}\n",
    "\n",
    "def r(n): # the revenue of length n\n",
    "    candidates = []\n",
    "    for i in range(1,n):\n",
    "        candidates.append((r(i) + r(n-i),i))\n",
    "    candidates.append((prices[n],0))\n",
    "    \n",
    "    max_price,split_point = max(candidates,key = lambda x:x[0])\n",
    "    \n",
    "    global solution\n",
    "    solution[n] = (split_point,n-split_point)\n",
    "    \n",
    "    return max_price"
   ]
  },
  {
   "cell_type": "code",
   "execution_count": 19,
   "metadata": {},
   "outputs": [
    {
     "name": "stdout",
     "output_type": "stream",
     "text": [
      "CPU times: user 2.67 ms, sys: 13 µs, total: 2.69 ms\n",
      "Wall time: 2.7 ms\n"
     ]
    },
    {
     "data": {
      "text/plain": [
       "22"
      ]
     },
     "execution_count": 19,
     "metadata": {},
     "output_type": "execute_result"
    }
   ],
   "source": [
    "%%time\n",
    "r(8)"
   ]
  },
  {
   "cell_type": "code",
   "execution_count": 20,
   "metadata": {},
   "outputs": [
    {
     "data": {
      "text/plain": [
       "{1: (0, 1),\n",
       " 2: (0, 2),\n",
       " 3: (0, 3),\n",
       " 4: (2, 2),\n",
       " 5: (2, 3),\n",
       " 6: (0, 6),\n",
       " 7: (1, 6),\n",
       " 8: (2, 6)}"
      ]
     },
     "execution_count": 20,
     "metadata": {},
     "output_type": "execute_result"
    }
   ],
   "source": [
    "solution"
   ]
  },
  {
   "cell_type": "markdown",
   "metadata": {},
   "source": [
    "## decorator"
   ]
  },
  {
   "cell_type": "code",
   "execution_count": 27,
   "metadata": {},
   "outputs": [],
   "source": [
    "from datetime import datetime\n",
    "import time"
   ]
  },
  {
   "cell_type": "code",
   "execution_count": 30,
   "metadata": {},
   "outputs": [],
   "source": [
    "def func1(n):\n",
    "    begin = datetime.now()\n",
    "    time.sleep(0.1)\n",
    "    # print('used time = {}'.format(datetime.now()-begin))\n",
    "    return n"
   ]
  },
  {
   "cell_type": "code",
   "execution_count": 31,
   "metadata": {},
   "outputs": [
    {
     "name": "stdout",
     "output_type": "stream",
     "text": [
      "used time = 0:00:00.102765\n"
     ]
    },
    {
     "data": {
      "text/plain": [
       "0"
      ]
     },
     "execution_count": 31,
     "metadata": {},
     "output_type": "execute_result"
    }
   ],
   "source": [
    "func1(0)"
   ]
  },
  {
   "cell_type": "code",
   "execution_count": 32,
   "metadata": {},
   "outputs": [],
   "source": [
    "def get_func_time(func):\n",
    "    \n",
    "    def _wrap(n):\n",
    "        begin = datetime.now()\n",
    "        result = func(n)\n",
    "        print('used time = {}'.format(datetime.now()-begin))\n",
    "        \n",
    "        return result\n",
    "    return _wrap"
   ]
  },
  {
   "cell_type": "code",
   "execution_count": 35,
   "metadata": {},
   "outputs": [
    {
     "name": "stdout",
     "output_type": "stream",
     "text": [
      "used time = 0:00:00.100086\n",
      "used time = 0:00:00.100235\n"
     ]
    },
    {
     "data": {
      "text/plain": [
       "9"
      ]
     },
     "execution_count": 35,
     "metadata": {},
     "output_type": "execute_result"
    }
   ],
   "source": [
    "func1_with_time = get_func_time(func1)\n",
    "'''\n",
    "@another_func\n",
    "def some_func:\n",
    "    pass\n",
    "\n",
    "==> some_func = anthoer_func(some_func)\n",
    "'''\n",
    "\n",
    "func1_with_time(9)"
   ]
  },
  {
   "cell_type": "code",
   "execution_count": 36,
   "metadata": {},
   "outputs": [],
   "source": [
    "@get_func_time\n",
    "def get(n):\n",
    "    print(n)"
   ]
  },
  {
   "cell_type": "code",
   "execution_count": 37,
   "metadata": {},
   "outputs": [
    {
     "name": "stdout",
     "output_type": "stream",
     "text": [
      "8\n",
      "used time = 0:00:00.000172\n"
     ]
    }
   ],
   "source": [
    "get(8)"
   ]
  },
  {
   "cell_type": "code",
   "execution_count": null,
   "metadata": {},
   "outputs": [],
   "source": []
  },
  {
   "cell_type": "code",
   "execution_count": 38,
   "metadata": {},
   "outputs": [],
   "source": [
    "def memo(func):\n",
    "    \n",
    "    cache = {}\n",
    "    def _wrap(n):\n",
    "        if n in cache: result = cache[n]\n",
    "        else:\n",
    "            result = func(n)\n",
    "            cache[n] = result\n",
    "        return result\n",
    "    \n",
    "    return _wrap"
   ]
  },
  {
   "cell_type": "code",
   "execution_count": 41,
   "metadata": {},
   "outputs": [],
   "source": [
    "solution = {}\n",
    "@memo\n",
    "def r(n): # the revenue of length n\n",
    "#     candidates = []\n",
    "#     for i in range(1,n):\n",
    "#         candidates.append((r(i) + r(n-i),i))\n",
    "#     candidates.append((prices[n],0))\n",
    "    \n",
    "#     max_price,split_point = max(candidates,key = lambda x:x[0])\n",
    "    max_price,split_point = max([(prices[n],0)] + [(r(i)+r(n-i),i) for i in range(1,n)],key = lambda x:x[0])\n",
    "    \n",
    "    global solution\n",
    "    solution[n] = (split_point,n-split_point)\n",
    "    \n",
    "    return max_price"
   ]
  },
  {
   "cell_type": "code",
   "execution_count": 42,
   "metadata": {},
   "outputs": [
    {
     "name": "stdout",
     "output_type": "stream",
     "text": [
      "CPU times: user 50 µs, sys: 0 ns, total: 50 µs\n",
      "Wall time: 52.9 µs\n"
     ]
    },
    {
     "data": {
      "text/plain": [
       "22"
      ]
     },
     "execution_count": 42,
     "metadata": {},
     "output_type": "execute_result"
    }
   ],
   "source": [
    "%%time\n",
    "r(8)"
   ]
  },
  {
   "cell_type": "markdown",
   "metadata": {},
   "source": [
    "## Dynamic Programming"
   ]
  },
  {
   "cell_type": "code",
   "execution_count": 44,
   "metadata": {},
   "outputs": [
    {
     "name": "stdout",
     "output_type": "stream",
     "text": [
      "CPU times: user 7.51 ms, sys: 266 µs, total: 7.78 ms\n",
      "Wall time: 7.85 ms\n"
     ]
    },
    {
     "data": {
      "text/plain": [
       "465"
      ]
     },
     "execution_count": 44,
     "metadata": {},
     "output_type": "execute_result"
    }
   ],
   "source": [
    "%%time\n",
    "r(155)"
   ]
  },
  {
   "cell_type": "code",
   "execution_count": 45,
   "metadata": {
    "scrolled": true
   },
   "outputs": [
    {
     "data": {
      "text/plain": [
       "{1: (0, 1),\n",
       " 2: (0, 2),\n",
       " 3: (0, 3),\n",
       " 4: (2, 2),\n",
       " 5: (2, 3),\n",
       " 6: (0, 6),\n",
       " 7: (1, 6),\n",
       " 8: (2, 6),\n",
       " 9: (3, 6),\n",
       " 10: (0, 10),\n",
       " 11: (0, 11),\n",
       " 12: (2, 10),\n",
       " 13: (2, 11),\n",
       " 14: (3, 11),\n",
       " 15: (2, 13),\n",
       " 16: (6, 10),\n",
       " 17: (6, 11),\n",
       " 18: (2, 16),\n",
       " 19: (2, 17),\n",
       " 20: (10, 10),\n",
       " 21: (10, 11),\n",
       " 22: (11, 11),\n",
       " 23: (2, 21),\n",
       " 24: (2, 22),\n",
       " 25: (3, 22),\n",
       " 26: (6, 20),\n",
       " 27: (6, 21),\n",
       " 28: (6, 22),\n",
       " 29: (2, 27),\n",
       " 30: (10, 20),\n",
       " 31: (10, 21),\n",
       " 32: (10, 22),\n",
       " 33: (11, 22),\n",
       " 34: (2, 32),\n",
       " 35: (2, 33),\n",
       " 36: (3, 33),\n",
       " 37: (6, 31),\n",
       " 38: (6, 32),\n",
       " 39: (6, 33),\n",
       " 40: (10, 30),\n",
       " 41: (10, 31),\n",
       " 42: (10, 32),\n",
       " 43: (10, 33),\n",
       " 44: (11, 33),\n",
       " 45: (2, 43),\n",
       " 46: (2, 44),\n",
       " 47: (3, 44),\n",
       " 48: (6, 42),\n",
       " 49: (6, 43),\n",
       " 50: (10, 40),\n",
       " 51: (10, 41),\n",
       " 52: (10, 42),\n",
       " 53: (10, 43),\n",
       " 54: (10, 44),\n",
       " 55: (11, 44),\n",
       " 56: (2, 54),\n",
       " 57: (2, 55),\n",
       " 58: (3, 55),\n",
       " 59: (6, 53),\n",
       " 60: (10, 50),\n",
       " 61: (10, 51),\n",
       " 62: (10, 52),\n",
       " 63: (10, 53),\n",
       " 64: (10, 54),\n",
       " 65: (10, 55),\n",
       " 66: (11, 55),\n",
       " 67: (2, 65),\n",
       " 68: (2, 66),\n",
       " 69: (3, 66),\n",
       " 70: (10, 60),\n",
       " 71: (10, 61),\n",
       " 72: (10, 62),\n",
       " 73: (10, 63),\n",
       " 74: (10, 64),\n",
       " 75: (10, 65),\n",
       " 76: (10, 66),\n",
       " 77: (11, 66),\n",
       " 78: (2, 76),\n",
       " 79: (2, 77),\n",
       " 80: (10, 70),\n",
       " 81: (10, 71),\n",
       " 82: (10, 72),\n",
       " 83: (10, 73),\n",
       " 84: (10, 74),\n",
       " 85: (10, 75),\n",
       " 86: (10, 76),\n",
       " 87: (10, 77),\n",
       " 88: (11, 77),\n",
       " 89: (2, 87),\n",
       " 90: (10, 80),\n",
       " 91: (10, 81),\n",
       " 92: (10, 82),\n",
       " 93: (10, 83),\n",
       " 94: (10, 84),\n",
       " 95: (10, 85),\n",
       " 96: (10, 86),\n",
       " 97: (10, 87),\n",
       " 98: (10, 88),\n",
       " 99: (11, 88),\n",
       " 100: (10, 90),\n",
       " 101: (10, 91),\n",
       " 102: (10, 92),\n",
       " 103: (10, 93),\n",
       " 104: (10, 94),\n",
       " 105: (10, 95),\n",
       " 106: (10, 96),\n",
       " 107: (10, 97),\n",
       " 108: (10, 98),\n",
       " 109: (10, 99),\n",
       " 110: (10, 100),\n",
       " 111: (10, 101),\n",
       " 112: (10, 102),\n",
       " 113: (10, 103),\n",
       " 114: (10, 104),\n",
       " 115: (10, 105),\n",
       " 116: (10, 106),\n",
       " 117: (10, 107),\n",
       " 118: (10, 108),\n",
       " 119: (10, 109),\n",
       " 120: (10, 110),\n",
       " 121: (10, 111),\n",
       " 122: (10, 112),\n",
       " 123: (10, 113),\n",
       " 124: (10, 114),\n",
       " 125: (10, 115),\n",
       " 126: (10, 116),\n",
       " 127: (10, 117),\n",
       " 128: (10, 118),\n",
       " 129: (10, 119),\n",
       " 130: (10, 120),\n",
       " 131: (10, 121),\n",
       " 132: (10, 122),\n",
       " 133: (10, 123),\n",
       " 134: (10, 124),\n",
       " 135: (10, 125),\n",
       " 136: (10, 126),\n",
       " 137: (10, 127),\n",
       " 138: (10, 128),\n",
       " 139: (10, 129),\n",
       " 140: (10, 130),\n",
       " 141: (10, 131),\n",
       " 142: (10, 132),\n",
       " 143: (10, 133),\n",
       " 144: (10, 134),\n",
       " 145: (10, 135),\n",
       " 146: (10, 136),\n",
       " 147: (10, 137),\n",
       " 148: (10, 138),\n",
       " 149: (10, 139),\n",
       " 150: (10, 140),\n",
       " 151: (10, 141),\n",
       " 152: (10, 142),\n",
       " 153: (10, 143),\n",
       " 154: (10, 144),\n",
       " 155: (10, 145)}"
      ]
     },
     "execution_count": 45,
     "metadata": {},
     "output_type": "execute_result"
    }
   ],
   "source": [
    "solution"
   ]
  },
  {
   "cell_type": "code",
   "execution_count": 43,
   "metadata": {},
   "outputs": [],
   "source": [
    "def not_cut(n): return n==0\n",
    "def parse_solution(target_length,revenue_solution):\n",
    "    left,right = revenue_solution[target_length]\n",
    "    \n",
    "    if not_cut(left): return [right]\n",
    "    \n",
    "    return parse_solution(left,revenue_solution)+parse_solution(right,revenue_solution)"
   ]
  },
  {
   "cell_type": "code",
   "execution_count": 49,
   "metadata": {},
   "outputs": [
    {
     "data": {
      "text/plain": [
       "[6, 10, 10, 11]"
      ]
     },
     "execution_count": 49,
     "metadata": {},
     "output_type": "execute_result"
    }
   ],
   "source": [
    "parse_solution(37,solution)"
   ]
  },
  {
   "cell_type": "markdown",
   "metadata": {},
   "source": [
    "## 动态规划\n",
    "解决具备一定限制条件的最优问题\n",
    "- 问题可分成若干子问题\n",
    "- 子问题之间存在overlapping\n",
    "- 对重合子问题进行cache\n",
    "- 根据cache数据加速解决问题\n",
    "- 还要构建parse_solution函数解析最终结果\n",
    "\n",
    "e.g. 编辑距离 edit distance ; 相似基因判断 ； 路径规划 \n"
   ]
  },
  {
   "cell_type": "code",
   "execution_count": null,
   "metadata": {},
   "outputs": [],
   "source": []
  }
 ],
 "metadata": {
  "kernelspec": {
   "display_name": "Python 3",
   "language": "python",
   "name": "python3"
  },
  "language_info": {
   "codemirror_mode": {
    "name": "ipython",
    "version": 3
   },
   "file_extension": ".py",
   "mimetype": "text/x-python",
   "name": "python",
   "nbconvert_exporter": "python",
   "pygments_lexer": "ipython3",
   "version": "3.7.4"
  }
 },
 "nbformat": 4,
 "nbformat_minor": 4
}

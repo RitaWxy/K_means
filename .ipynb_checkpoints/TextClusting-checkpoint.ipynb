{
 "cells": [
  {
   "cell_type": "markdown",
   "metadata": {},
   "source": [
    "# 基于 TFIDF 的 KMeans 的文本聚类\n",
    "- 使用 sklearn、pandas、numpy、nltk 等工具对文本数据进行预处理得到向量化的文本表示\n",
    "- 使用 sklearn 中的 KMeans 方法对已经向量化的文本进行聚类，并使用手肘法进行聚类簇数量的选择"
   ]
  },
  {
   "cell_type": "code",
   "execution_count": 1,
   "metadata": {},
   "outputs": [
    {
     "name": "stderr",
     "output_type": "stream",
     "text": [
      "/opt/anaconda3/lib/python3.7/importlib/_bootstrap.py:219: RuntimeWarning: numpy.ufunc size changed, may indicate binary incompatibility. Expected 192 from C header, got 216 from PyObject\n",
      "  return f(*args, **kwds)\n",
      "/opt/anaconda3/lib/python3.7/importlib/_bootstrap.py:219: RuntimeWarning: numpy.ufunc size changed, may indicate binary incompatibility. Expected 192 from C header, got 216 from PyObject\n",
      "  return f(*args, **kwds)\n",
      "/opt/anaconda3/lib/python3.7/importlib/_bootstrap.py:219: RuntimeWarning: numpy.ufunc size changed, may indicate binary incompatibility. Expected 192 from C header, got 216 from PyObject\n",
      "  return f(*args, **kwds)\n"
     ]
    }
   ],
   "source": [
    "import pandas as pd\n",
    "import numpy as np\n",
    "import matplotlib.pyplot as plt\n",
    "\n",
    "import seaborn as sns\n",
    "\n",
    "from sklearn.cluster import KMeans\n",
    "from sklearn.feature_extraction import text\n",
    "from sklearn.feature_extraction.text import TfidfVectorizer\n",
    "from nltk.tokenize import RegexpTokenizer\n",
    "from nltk.stem.snowball import SnowballStemmer\n",
    "%matplotlib inline"
   ]
  },
  {
   "cell_type": "markdown",
   "metadata": {},
   "source": [
    "## 数据集数据处理"
   ]
  },
  {
   "cell_type": "code",
   "execution_count": 6,
   "metadata": {},
   "outputs": [],
   "source": [
    "# 读取数据\n",
    "data = pd.read_csv('./abcnews-date-text(1).csv')\n",
    "data = data.head(10000) # 取部分数据"
   ]
  },
  {
   "cell_type": "code",
   "execution_count": 7,
   "metadata": {},
   "outputs": [
    {
     "data": {
      "text/html": [
       "<div>\n",
       "<style scoped>\n",
       "    .dataframe tbody tr th:only-of-type {\n",
       "        vertical-align: middle;\n",
       "    }\n",
       "\n",
       "    .dataframe tbody tr th {\n",
       "        vertical-align: top;\n",
       "    }\n",
       "\n",
       "    .dataframe thead th {\n",
       "        text-align: right;\n",
       "    }\n",
       "</style>\n",
       "<table border=\"1\" class=\"dataframe\">\n",
       "  <thead>\n",
       "    <tr style=\"text-align: right;\">\n",
       "      <th></th>\n",
       "      <th>publish_date</th>\n",
       "      <th>headline_text</th>\n",
       "    </tr>\n",
       "  </thead>\n",
       "  <tbody>\n",
       "    <tr>\n",
       "      <td>0</td>\n",
       "      <td>20030219</td>\n",
       "      <td>aba decides against community broadcasting lic...</td>\n",
       "    </tr>\n",
       "    <tr>\n",
       "      <td>1</td>\n",
       "      <td>20030219</td>\n",
       "      <td>act fire witnesses must be aware of defamation</td>\n",
       "    </tr>\n",
       "    <tr>\n",
       "      <td>2</td>\n",
       "      <td>20030219</td>\n",
       "      <td>a g calls for infrastructure protection summit</td>\n",
       "    </tr>\n",
       "    <tr>\n",
       "      <td>3</td>\n",
       "      <td>20030219</td>\n",
       "      <td>air nz staff in aust strike for pay rise</td>\n",
       "    </tr>\n",
       "    <tr>\n",
       "      <td>4</td>\n",
       "      <td>20030219</td>\n",
       "      <td>air nz strike to affect australian travellers</td>\n",
       "    </tr>\n",
       "    <tr>\n",
       "      <td>...</td>\n",
       "      <td>...</td>\n",
       "      <td>...</td>\n",
       "    </tr>\n",
       "    <tr>\n",
       "      <td>9995</td>\n",
       "      <td>20030407</td>\n",
       "      <td>vic govt plan aims to reduce water use</td>\n",
       "    </tr>\n",
       "    <tr>\n",
       "      <td>9996</td>\n",
       "      <td>20030407</td>\n",
       "      <td>vic govt urged to green light marina plan</td>\n",
       "    </tr>\n",
       "    <tr>\n",
       "      <td>9997</td>\n",
       "      <td>20030407</td>\n",
       "      <td>vic nats leave door open on coalition</td>\n",
       "    </tr>\n",
       "    <tr>\n",
       "      <td>9998</td>\n",
       "      <td>20030407</td>\n",
       "      <td>waterfall survivors tell of train speeding before</td>\n",
       "    </tr>\n",
       "    <tr>\n",
       "      <td>9999</td>\n",
       "      <td>20030407</td>\n",
       "      <td>water wont be moved without studies gallop</td>\n",
       "    </tr>\n",
       "  </tbody>\n",
       "</table>\n",
       "<p>10000 rows × 2 columns</p>\n",
       "</div>"
      ],
      "text/plain": [
       "      publish_date                                      headline_text\n",
       "0         20030219  aba decides against community broadcasting lic...\n",
       "1         20030219     act fire witnesses must be aware of defamation\n",
       "2         20030219     a g calls for infrastructure protection summit\n",
       "3         20030219           air nz staff in aust strike for pay rise\n",
       "4         20030219      air nz strike to affect australian travellers\n",
       "...            ...                                                ...\n",
       "9995      20030407             vic govt plan aims to reduce water use\n",
       "9996      20030407          vic govt urged to green light marina plan\n",
       "9997      20030407              vic nats leave door open on coalition\n",
       "9998      20030407  waterfall survivors tell of train speeding before\n",
       "9999      20030407         water wont be moved without studies gallop\n",
       "\n",
       "[10000 rows x 2 columns]"
      ]
     },
     "execution_count": 7,
     "metadata": {},
     "output_type": "execute_result"
    }
   ],
   "source": [
    "data"
   ]
  },
  {
   "cell_type": "markdown",
   "metadata": {},
   "source": [
    "<font color = 'red' size= 5 > pd.DataFrame.duplicate </font>\n",
    "- 查看重复的数据行，pandas.DataFrame.duplicated 使用方法详见：https://pandas.pydata.org/pandas-docs/stable/reference/api/pandas.DataFrame.duplicated.html\n",
    "\n",
    "- 删除重复行，pandas.DataFrame.drop_duplicates 使用方法详见：https://pandas.pydata.org/pandas-docs/stable/reference/api/pandas.DataFrame.drop_duplicates.html\n"
   ]
  },
  {
   "cell_type": "code",
   "execution_count": 12,
   "metadata": {},
   "outputs": [
    {
     "data": {
      "text/html": [
       "<div>\n",
       "<style scoped>\n",
       "    .dataframe tbody tr th:only-of-type {\n",
       "        vertical-align: middle;\n",
       "    }\n",
       "\n",
       "    .dataframe tbody tr th {\n",
       "        vertical-align: top;\n",
       "    }\n",
       "\n",
       "    .dataframe thead th {\n",
       "        text-align: right;\n",
       "    }\n",
       "</style>\n",
       "<table border=\"1\" class=\"dataframe\">\n",
       "  <thead>\n",
       "    <tr style=\"text-align: right;\">\n",
       "      <th></th>\n",
       "      <th>publish_date</th>\n",
       "      <th>headline_text</th>\n",
       "    </tr>\n",
       "  </thead>\n",
       "  <tbody>\n",
       "    <tr>\n",
       "      <td>9253</td>\n",
       "      <td>20030404</td>\n",
       "      <td>5 australian sars cases being monitored</td>\n",
       "    </tr>\n",
       "    <tr>\n",
       "      <td>9458</td>\n",
       "      <td>20030405</td>\n",
       "      <td>5 australian sars cases being monitored</td>\n",
       "    </tr>\n",
       "    <tr>\n",
       "      <td>6402</td>\n",
       "      <td>20030322</td>\n",
       "      <td>all walks of life follow protest path</td>\n",
       "    </tr>\n",
       "    <tr>\n",
       "      <td>6192</td>\n",
       "      <td>20030321</td>\n",
       "      <td>all walks of life follow protest path</td>\n",
       "    </tr>\n",
       "    <tr>\n",
       "      <td>6197</td>\n",
       "      <td>20030321</td>\n",
       "      <td>asio briefs crean on terrorist risk</td>\n",
       "    </tr>\n",
       "    <tr>\n",
       "      <td>...</td>\n",
       "      <td>...</td>\n",
       "      <td>...</td>\n",
       "    </tr>\n",
       "    <tr>\n",
       "      <td>6396</td>\n",
       "      <td>20030321</td>\n",
       "      <td>wildcats crush hawks</td>\n",
       "    </tr>\n",
       "    <tr>\n",
       "      <td>6596</td>\n",
       "      <td>20030322</td>\n",
       "      <td>wildcats crush hawks</td>\n",
       "    </tr>\n",
       "    <tr>\n",
       "      <td>5510</td>\n",
       "      <td>20030317</td>\n",
       "      <td>woman dies in car crash</td>\n",
       "    </tr>\n",
       "    <tr>\n",
       "      <td>5030</td>\n",
       "      <td>20030314</td>\n",
       "      <td>woman dies in car crash</td>\n",
       "    </tr>\n",
       "    <tr>\n",
       "      <td>1205</td>\n",
       "      <td>20030224</td>\n",
       "      <td>woman dies in car crash</td>\n",
       "    </tr>\n",
       "  </tbody>\n",
       "</table>\n",
       "<p>64 rows × 2 columns</p>\n",
       "</div>"
      ],
      "text/plain": [
       "      publish_date                            headline_text\n",
       "9253      20030404  5 australian sars cases being monitored\n",
       "9458      20030405  5 australian sars cases being monitored\n",
       "6402      20030322    all walks of life follow protest path\n",
       "6192      20030321    all walks of life follow protest path\n",
       "6197      20030321      asio briefs crean on terrorist risk\n",
       "...            ...                                      ...\n",
       "6396      20030321                     wildcats crush hawks\n",
       "6596      20030322                     wildcats crush hawks\n",
       "5510      20030317                  woman dies in car crash\n",
       "5030      20030314                  woman dies in car crash\n",
       "1205      20030224                  woman dies in car crash\n",
       "\n",
       "[64 rows x 2 columns]"
      ]
     },
     "execution_count": 12,
     "metadata": {},
     "output_type": "execute_result"
    }
   ],
   "source": [
    "# 查看重复数据\n",
    "data[data['headline_text'].duplicated(keep=False)].sort_values('headline_text')"
   ]
  },
  {
   "cell_type": "code",
   "execution_count": 13,
   "metadata": {},
   "outputs": [],
   "source": [
    "data = data.drop_duplicates('headline_text')"
   ]
  },
  {
   "cell_type": "markdown",
   "metadata": {},
   "source": [
    "## 数据预处理"
   ]
  },
  {
   "cell_type": "markdown",
   "metadata": {},
   "source": [
    "1. 分词"
   ]
  },
  {
   "cell_type": "code",
   "execution_count": 15,
   "metadata": {
    "scrolled": true
   },
   "outputs": [
    {
     "data": {
      "text/plain": [
       "frozenset({'!',\n",
       "           '\"',\n",
       "           '%',\n",
       "           \"'\",\n",
       "           '(',\n",
       "           ')',\n",
       "           ',',\n",
       "           '.',\n",
       "           ':',\n",
       "           ';',\n",
       "           '?',\n",
       "           '[',\n",
       "           ']',\n",
       "           'a',\n",
       "           'about',\n",
       "           'above',\n",
       "           'across',\n",
       "           'after',\n",
       "           'afterwards',\n",
       "           'again',\n",
       "           'against',\n",
       "           'all',\n",
       "           'almost',\n",
       "           'alone',\n",
       "           'along',\n",
       "           'already',\n",
       "           'also',\n",
       "           'although',\n",
       "           'always',\n",
       "           'am',\n",
       "           'among',\n",
       "           'amongst',\n",
       "           'amoungst',\n",
       "           'amount',\n",
       "           'an',\n",
       "           'and',\n",
       "           'another',\n",
       "           'any',\n",
       "           'anyhow',\n",
       "           'anyone',\n",
       "           'anything',\n",
       "           'anyway',\n",
       "           'anywhere',\n",
       "           'are',\n",
       "           'around',\n",
       "           'as',\n",
       "           'at',\n",
       "           'back',\n",
       "           'be',\n",
       "           'became',\n",
       "           'because',\n",
       "           'become',\n",
       "           'becomes',\n",
       "           'becoming',\n",
       "           'been',\n",
       "           'before',\n",
       "           'beforehand',\n",
       "           'behind',\n",
       "           'being',\n",
       "           'below',\n",
       "           'beside',\n",
       "           'besides',\n",
       "           'between',\n",
       "           'beyond',\n",
       "           'bill',\n",
       "           'both',\n",
       "           'bottom',\n",
       "           'but',\n",
       "           'by',\n",
       "           'call',\n",
       "           'can',\n",
       "           'cannot',\n",
       "           'cant',\n",
       "           'co',\n",
       "           'con',\n",
       "           'could',\n",
       "           'couldnt',\n",
       "           'cry',\n",
       "           'de',\n",
       "           'describe',\n",
       "           'detail',\n",
       "           'do',\n",
       "           'done',\n",
       "           'down',\n",
       "           'due',\n",
       "           'during',\n",
       "           'each',\n",
       "           'eg',\n",
       "           'eight',\n",
       "           'either',\n",
       "           'eleven',\n",
       "           'else',\n",
       "           'elsewhere',\n",
       "           'empty',\n",
       "           'enough',\n",
       "           'etc',\n",
       "           'even',\n",
       "           'ever',\n",
       "           'every',\n",
       "           'everyone',\n",
       "           'everything',\n",
       "           'everywhere',\n",
       "           'except',\n",
       "           'few',\n",
       "           'fifteen',\n",
       "           'fifty',\n",
       "           'fill',\n",
       "           'find',\n",
       "           'fire',\n",
       "           'first',\n",
       "           'five',\n",
       "           'for',\n",
       "           'former',\n",
       "           'formerly',\n",
       "           'forty',\n",
       "           'found',\n",
       "           'four',\n",
       "           'from',\n",
       "           'front',\n",
       "           'full',\n",
       "           'further',\n",
       "           'get',\n",
       "           'give',\n",
       "           'go',\n",
       "           'had',\n",
       "           'has',\n",
       "           'hasnt',\n",
       "           'have',\n",
       "           'he',\n",
       "           'hence',\n",
       "           'her',\n",
       "           'here',\n",
       "           'hereafter',\n",
       "           'hereby',\n",
       "           'herein',\n",
       "           'hereupon',\n",
       "           'hers',\n",
       "           'herself',\n",
       "           'him',\n",
       "           'himself',\n",
       "           'his',\n",
       "           'how',\n",
       "           'however',\n",
       "           'hundred',\n",
       "           'i',\n",
       "           'ie',\n",
       "           'if',\n",
       "           'in',\n",
       "           'inc',\n",
       "           'indeed',\n",
       "           'interest',\n",
       "           'into',\n",
       "           'is',\n",
       "           'it',\n",
       "           'its',\n",
       "           'itself',\n",
       "           'keep',\n",
       "           'last',\n",
       "           'latter',\n",
       "           'latterly',\n",
       "           'least',\n",
       "           'less',\n",
       "           'ltd',\n",
       "           'made',\n",
       "           'many',\n",
       "           'may',\n",
       "           'me',\n",
       "           'meanwhile',\n",
       "           'might',\n",
       "           'mill',\n",
       "           'mine',\n",
       "           'more',\n",
       "           'moreover',\n",
       "           'most',\n",
       "           'mostly',\n",
       "           'move',\n",
       "           'much',\n",
       "           'must',\n",
       "           'my',\n",
       "           'myself',\n",
       "           'name',\n",
       "           'namely',\n",
       "           'neither',\n",
       "           'never',\n",
       "           'nevertheless',\n",
       "           'next',\n",
       "           'nine',\n",
       "           'no',\n",
       "           'nobody',\n",
       "           'none',\n",
       "           'noone',\n",
       "           'nor',\n",
       "           'not',\n",
       "           'nothing',\n",
       "           'now',\n",
       "           'nowhere',\n",
       "           'of',\n",
       "           'off',\n",
       "           'often',\n",
       "           'on',\n",
       "           'once',\n",
       "           'one',\n",
       "           'only',\n",
       "           'onto',\n",
       "           'or',\n",
       "           'other',\n",
       "           'others',\n",
       "           'otherwise',\n",
       "           'our',\n",
       "           'ours',\n",
       "           'ourselves',\n",
       "           'out',\n",
       "           'over',\n",
       "           'own',\n",
       "           'part',\n",
       "           'per',\n",
       "           'perhaps',\n",
       "           'please',\n",
       "           'put',\n",
       "           'rather',\n",
       "           're',\n",
       "           'same',\n",
       "           'see',\n",
       "           'seem',\n",
       "           'seemed',\n",
       "           'seeming',\n",
       "           'seems',\n",
       "           'serious',\n",
       "           'several',\n",
       "           'she',\n",
       "           'should',\n",
       "           'show',\n",
       "           'side',\n",
       "           'since',\n",
       "           'sincere',\n",
       "           'six',\n",
       "           'sixty',\n",
       "           'so',\n",
       "           'some',\n",
       "           'somehow',\n",
       "           'someone',\n",
       "           'something',\n",
       "           'sometime',\n",
       "           'sometimes',\n",
       "           'somewhere',\n",
       "           'still',\n",
       "           'such',\n",
       "           'system',\n",
       "           'take',\n",
       "           'ten',\n",
       "           'than',\n",
       "           'that',\n",
       "           'the',\n",
       "           'their',\n",
       "           'them',\n",
       "           'themselves',\n",
       "           'then',\n",
       "           'thence',\n",
       "           'there',\n",
       "           'thereafter',\n",
       "           'thereby',\n",
       "           'therefore',\n",
       "           'therein',\n",
       "           'thereupon',\n",
       "           'these',\n",
       "           'they',\n",
       "           'thick',\n",
       "           'thin',\n",
       "           'third',\n",
       "           'this',\n",
       "           'those',\n",
       "           'though',\n",
       "           'three',\n",
       "           'through',\n",
       "           'throughout',\n",
       "           'thru',\n",
       "           'thus',\n",
       "           'to',\n",
       "           'together',\n",
       "           'too',\n",
       "           'top',\n",
       "           'toward',\n",
       "           'towards',\n",
       "           'twelve',\n",
       "           'twenty',\n",
       "           'two',\n",
       "           'un',\n",
       "           'under',\n",
       "           'until',\n",
       "           'up',\n",
       "           'upon',\n",
       "           'us',\n",
       "           'very',\n",
       "           'via',\n",
       "           'was',\n",
       "           'we',\n",
       "           'well',\n",
       "           'were',\n",
       "           'what',\n",
       "           'whatever',\n",
       "           'when',\n",
       "           'whence',\n",
       "           'whenever',\n",
       "           'where',\n",
       "           'whereafter',\n",
       "           'whereas',\n",
       "           'whereby',\n",
       "           'wherein',\n",
       "           'whereupon',\n",
       "           'wherever',\n",
       "           'whether',\n",
       "           'which',\n",
       "           'while',\n",
       "           'whither',\n",
       "           'who',\n",
       "           'whoever',\n",
       "           'whole',\n",
       "           'whom',\n",
       "           'whose',\n",
       "           'why',\n",
       "           'will',\n",
       "           'with',\n",
       "           'within',\n",
       "           'without',\n",
       "           'would',\n",
       "           'yet',\n",
       "           'you',\n",
       "           'your',\n",
       "           'yours',\n",
       "           'yourself',\n",
       "           'yourselves',\n",
       "           '{',\n",
       "           '}'})"
      ]
     },
     "execution_count": 15,
     "metadata": {},
     "output_type": "execute_result"
    }
   ],
   "source": [
    "punc = ['.', ',', '\"', \"'\", '?', '!', ':', ';', '(', ')', '[', ']', '{', '}',\"%\"]\n",
    "stop_word  = text.ENGLISH_STOP_WORDS.union(punc) # punc加入到停用词，并集\n",
    "stop_word"
   ]
  },
  {
   "cell_type": "markdown",
   "metadata": {},
   "source": [
    "<font color = 'red' size= 5 > TfidfVectorizer </font>  \n",
    "使用方法详见：http://scikit-learn.org/stable/modules/generated/sklearn.feature_extraction.text.TfidfVectorizer.html  \n",
    "\n",
    "原理：https://zhuanlan.zhihu.com/p/67883024"
   ]
  },
  {
   "cell_type": "code",
   "execution_count": 22,
   "metadata": {},
   "outputs": [],
   "source": [
    "vectorizer = TfidfVectorizer(stop_words = stop_word)\n",
    "desc = data['headline_text'].values\n",
    "X = vectorizer.fit_transform(desc)\n",
    "word_features = vectorizer.get_feature_names()"
   ]
  },
  {
   "cell_type": "code",
   "execution_count": 23,
   "metadata": {},
   "outputs": [
    {
     "data": {
      "text/plain": [
       "array(['aba decides against community broadcasting licence',\n",
       "       'act fire witnesses must be aware of defamation',\n",
       "       'a g calls for infrastructure protection summit', ...,\n",
       "       'vic nats leave door open on coalition',\n",
       "       'waterfall survivors tell of train speeding before',\n",
       "       'water wont be moved without studies gallop'], dtype=object)"
      ]
     },
     "execution_count": 23,
     "metadata": {},
     "output_type": "execute_result"
    }
   ],
   "source": [
    "desc"
   ]
  },
  {
   "cell_type": "code",
   "execution_count": 25,
   "metadata": {
    "scrolled": true
   },
   "outputs": [
    {
     "name": "stdout",
     "output_type": "stream",
     "text": [
      "  (0, 5110)\t0.43981539702983696\n",
      "  (0, 1310)\t0.5065106433448784\n",
      "  (0, 1975)\t0.33006828555314244\n",
      "  (0, 2456)\t0.46960851333097303\n",
      "  (0, 196)\t0.46960851333097303\n",
      "  (1, 2476)\t0.536798704037279\n",
      "  (1, 801)\t0.5686921892748534\n",
      "  (1, 9681)\t0.49352194120053033\n",
      "  (1, 267)\t0.38062112231894385\n",
      "  (2, 8533)\t0.4745570580504975\n",
      "  (2, 6786)\t0.545425651133694\n",
      "  (2, 4525)\t0.5647311500231394\n",
      "  (2, 1459)\t0.3979763635360587\n",
      "  (3, 7404)\t0.3783359955921573\n",
      "  (3, 6309)\t0.37452108275719\n",
      "  (3, 8441)\t0.37966438032606903\n",
      "  (3, 764)\t0.3386920117463348\n",
      "  (3, 8292)\t0.41549345133692417\n",
      "  (3, 5970)\t0.3883302044801927\n",
      "  (3, 390)\t0.36647422376617234\n",
      "  (4, 9045)\t0.49868000492563264\n",
      "  (4, 768)\t0.35752659213658694\n",
      "  (4, 334)\t0.45847637525536333\n",
      "  (4, 8441)\t0.3725409751676253\n",
      "  (4, 5970)\t0.38104420788657495\n",
      "  :\t:\n",
      "  (9962, 9525)\t0.3242120823197961\n",
      "  (9962, 6460)\t0.31842499952604175\n",
      "  (9963, 5366)\t0.5143846975286045\n",
      "  (9963, 9369)\t0.33896505050545095\n",
      "  (9963, 3928)\t0.39497410184886594\n",
      "  (9963, 5130)\t0.42667487401702775\n",
      "  (9963, 3886)\t0.2720889123455047\n",
      "  (9963, 9293)\t0.33896505050545095\n",
      "  (9963, 6460)\t0.3058192383581448\n",
      "  (9964, 2818)\t0.5086813965933922\n",
      "  (9964, 1882)\t0.3637366253403568\n",
      "  (9964, 5823)\t0.4200462116346781\n",
      "  (9964, 5045)\t0.4074951045983038\n",
      "  (9964, 9369)\t0.3513574861712659\n",
      "  (9964, 6058)\t0.3781477765067334\n",
      "  (9965, 8206)\t0.4860082880623132\n",
      "  (9965, 9527)\t0.43199539788096963\n",
      "  (9965, 8595)\t0.4669882773023471\n",
      "  (9965, 9021)\t0.38472419780212963\n",
      "  (9965, 8760)\t0.4594400511841522\n",
      "  (9966, 3737)\t0.526335574489791\n",
      "  (9966, 5728)\t0.4862820969507674\n",
      "  (9966, 8467)\t0.5097118793345733\n",
      "  (9966, 9700)\t0.3626184733861767\n",
      "  (9966, 9525)\t0.3085485829427227\n"
     ]
    },
    {
     "data": {
      "text/plain": [
       "<9967x9820 sparse matrix of type '<class 'numpy.float64'>'\n",
       "\twith 49738 stored elements in Compressed Sparse Row format>"
      ]
     },
     "execution_count": 25,
     "metadata": {},
     "output_type": "execute_result"
    }
   ],
   "source": [
    "print(X)\n",
    "X"
   ]
  },
  {
   "cell_type": "code",
   "execution_count": 26,
   "metadata": {
    "collapsed": true,
    "jupyter": {
     "outputs_hidden": true
    },
    "scrolled": true
   },
   "outputs": [
    {
     "name": "stdout",
     "output_type": "stream",
     "text": [
      "9820\n",
      "['10', '100', '1000', '10000', '100000', '100m', '100th', '101st', '1035', '104', '105th', '106m', '108', '10m', '11', '110', '112pc', '114', '11b', '11pc', '12', '120', '1200', '125cc', '12b', '12m', '13', '130', '1300', '14', '14000', '14m', '15', '150', '15000', '155m', '158', '15th', '16', '160', '1600yo', '16m', '17', '170', '175m', '17m', '17pc', '18', '1800', '184m', '18500', '18th', '19', '191m', '192m', '1970', '1994', '19pc', '1b', '1m', '20', '200', '2000', '20000', '200000', '2001', '2002', '2003', '2004', '2005', '2006', '2008', '200m', '200th', '2014', '2060', '20m', '20pc', '21', '218m', '21m', '22', '220000', '23', '24', '242', '242m', '24m', '25', '250', '2500', '250000', '250k', '250th', '253', '257', '25m', '26', '260', '260000', '266', '27', '27m', '27th', '28', '2b', '2m', '30', '300', '30000', '300000', '300m', '302', '30m', '31', '314', '31m', '320', '32m', '33', '33000', '353', '360', '37', '370', '39', '40', '400', '4000', '40000', '400m', '41', '42', '437m', '43rd', '45', '45pc', '46', '47', '475pc', '48', '4m', '4wd', '50', '500', '50000', '500000', '50m', '50pc', '52', '53', '54', '598000', '5m', '60', '600', '600m', '60m', '61', '61m', '61st', '62', '6300', '64', '650', '66', '66pc', '67', '68', '69', '70', '700', '72', '75b', '75m', '75th', '77', '79', '7s', '80', '80000', '800000', '800m', '80m', '83', '86', '896m', '8m', '92', '94', '95', '97pc', '98', '9pc', 'aa', 'aac', 'aba', 'abalone', 'abandon', 'abandons', 'abare', 'abattoir', 'abattoirs', 'abbott', 'abc', 'abdicate', 'abducting', 'abide', 'abigroup', 'ability', 'ablaze', 'able', 'aboard', 'abolition', 'aboriginal', 'aborigines', 'aborted', 'abortions', 'aborts', 'abreast', 'abroad', 'abs', 'absence', 'absences', 'absent', 'abu', 'abundance', 'abuse', 'abuses', 'abusing', 'abysmal', 'ac', 'aca', 'academic', 'academy', 'acapulco', 'acb', 'accc', 'accent', 'accept', 'accepts', 'access', 'accident', 'accidental', 'accidents', 'accommodation', 'account', 'accountability', 'accounting', 'accounts', 'accreditation', 'accusation', 'accusations', 'accuse', 'accused', 'accuses', 'ace', 'aceh', 'achievement', 'achievements', 'achieves', 'acid', 'acknowledges', 'acoss', 'acquire', 'acquisition', 'acquitted', 'act', 'acting', 'action', 'actions', 'active', 'activist', 'activists', 'activities', 'activity', 'actors', 'actress', 'acts', 'actu', 'acu', 'ad', 'adam', 'adams', 'add', 'added', 'addiction', 'addicts', 'addition', 'address', 'addresses', 'addressing', 'adds', 'adelaide', 'adelaides', 'adequate', 'adf', 'adjourned', 'adjusting', 'administration', 'administrator', 'admiration', 'admit', 'admits', 'admitted', 'adopt', 'adoption', 'adopts', 'adriatico', 'ads', 'adult', 'adults', 'advance', 'advances', 'advantage', 'advantages', 'adventure', 'advertise', 'advertised', 'advertising', 'advice', 'advise', 'advised', 'advises', 'advisory', 'advocate', 'advocates', 'aec', 'aek', 'aerial', 'aerodynamics', 'aeronautics', 'affair', 'affairs', 'affect', 'affected', 'affecting', 'affiliate', 'afford', 'affordable', 'afghan', 'afghanistan', 'afghans', 'afl', 'afloat', 'afma', 'afp', 'afraid', 'africa', 'african', 'africans', 'africas', 'afridi', 'aftershocks', 'ag', 'agassi', 'agassis', 'age', 'aged', 'ageing', 'agencies', 'agency', 'agenda', 'agent', 'agfest', 'agforce', 'aggression', 'agl', 'ago', 'agony', 'agree', 'agreed', 'agreement', 'agreements', 'agrees', 'agricultural', 'agriculture', 'aground', 'ah', 'ahead', 'aid', 'aide', 'aided', 'aiding', 'aids', 'ailing', 'aim', 'aimed', 'aiming', 'aims', 'air', 'airbase', 'airborne', 'aircraft', 'aired', 'aires', 'airfield', 'airfields', 'airlifted', 'airline', 'airliner', 'airlines', 'airmen', 'airpark', 'airport', 'airports', 'airs', 'airspace', 'airwomen', 'ais', 'ajax', 'ajaxs', 'akbar', 'akram', 'al', 'alain', 'alarm', 'alarmed', 'alarming', 'alarms', 'albany', 'albert', 'album', 'albury', 'alcohol', 'alcoholic', 'aldoga', 'alert', 'alerts', 'algae', 'algal', 'algeria', 'algerian', 'ali', 'alianza', 'alice', 'alienated', 'alight', 'aligned', 'alinghi', 'alive', 'allan', 'allegation', 'allegations', 'allege', 'alleged', 'allegedly', 'alleges', 'allergy', 'alliance', 'allied', 'allies', 'allocated', 'allocation', 'allocations', 'allow', 'allowance', 'allowed', 'allows', 'alp', 'alpolfo', 'alsace', 'alston', 'altercation', 'alternative', 'alternatives', 'aluminium', 'ama', 'amateurs', 'amazing', 'ambassador', 'ambitions', 'ambitious', 'ambo', 'ambos', 'ambulance', 'amc', 'amcor', 'amend', 'amendments', 'amends', 'america', 'american', 'americans', 'americas', 'amery', 'amid', 'amidst', 'amino', 'ammunition', 'amnesty', 'amoeba', 'amoruso', 'amp', 'amphetamine', 'amputated', 'amputee', 'amrozi', 'analyst', 'analysts', 'anasta', 'ancestral', 'anchors', 'ancient', 'anderson', 'andersson', 'andy', 'angeles', 'anger', 'angered', 'angers', 'angle', 'angler', 'anglers', 'anglian', 'anglican', 'angry', 'animal', 'ankle', 'anlezark', 'annan', 'annans', 'annihilate', 'anniversary', 'announce', 'announced', 'announcement', 'announces', 'annual', 'annually', 'ansar', 'ansett', 'answer', 'answered', 'answers', 'ant', 'antarctic', 'antarctica', 'anthem', 'anthrax', 'anti', 'antic', 'antidote', 'anwar', 'anxiety', 'anxious', 'anz', 'anzac', 'aoc', 'apache', 'apart', 'apartheid', 'apartment', 'apartments', 'ape', 'aplenty', 'apn', 'apologises', 'apology', 'appallingly', 'apparent', 'appeal', 'appealing', 'appeals', 'appear', 'appearance', 'appears', 'appease', 'applauded', 'applauds', 'application', 'applications', 'apply', 'appoint', 'appointed', 'appointment', 'appointments', 'appoints', 'apprentices', 'apprenticeships', 'approach', 'approached', 'approaches', 'appropriate', 'approval', 'approvals', 'approve', 'approved', 'approves', 'apra', 'april', 'aprilia', 'aquaculture', 'aquatic', 'aquifer', 'arab', 'arabia', 'arabian', 'arabians', 'arabic', 'arabs', 'arafat', 'arafats', 'arafura', 'aramac', 'arazi', 'arbitration', 'arbitrator', 'archaeological', 'archaeologists', 'archbishop', 'archdiocese', 'archibald', 'architect', 'architects', 'architectural', 'ardiles', 'ardmona', 'area', 'areas', 'argentina', 'argentine', 'argentines', 'argentinian', 'argue', 'argues', 'arguments', 'arise', 'aristocrat', 'arizona', 'arm', 'armageddon', 'armchair', 'armed', 'armenian', 'armidale', 'armoured', 'arms', 'armstrong', 'armstrongs', 'army', 'arnett', 'arnhem', 'arranged', 'arrest', 'arrested', 'arresting', 'arrests', 'arrive', 'arrives', 'arriving', 'arrogance', 'arron', 'arrow', 'arrows', 'arroyo', 'arsenal', 'arsenals', 'arson', 'arsonist', 'art', 'arterial', 'arthurs', 'article', 'artificial', 'artificially', 'artillery', 'artist', 'artists', 'arts', 'artworks', 'aru', 'asa', 'asbestos', 'ashamed', 'ashes', 'ashford', 'asia', 'asian', 'asic', 'aside', 'asio', 'ask', 'asked', 'asking', 'asks', 'asphalt', 'aspirin', 'assassin', 'assassinate', 'assassinated', 'assassination', 'assault', 'assaulted', 'assaulting', 'assaults', 'assess', 'assessed', 'assesses', 'assessment', 'assessments', 'assets', 'assist', 'assistance', 'assistant', 'assisting', 'association', 'assume', 'assurances', 'assures', 'asthma', 'astounding', 'astro', 'astronomers', 'asx', 'asylum', 'atalanta', 'atapattu', 'athens', 'athlete', 'athletes', 'athletics', 'atkinson', 'atlantic', 'atletico', 'atm', 'ato', 'atomic', 'atop', 'atp', 'atrocities', 'atsic', 'attached', 'attack', 'attacked', 'attacking', 'attacks', 'attempt', 'attempted', 'attempting', 'attempts', 'attend', 'attendance', 'attendant', 'attendants', 'attending', 'attention', 'attitude', 'attitudes', 'attorney', 'attract', 'attraction', 'attractions', 'attrition', 'atwal', 'auckland', 'auction', 'audit', 'augusta', 'auiron', 'aus', 'ausmelt', 'aussie', 'aussies', 'aust', 'austeel', 'austereo', 'australia', 'australian', 'australians', 'australias', 'austria', 'austs', 'authenticity', 'author', 'authorities', 'authority', 'autopsies', 'autopsy', 'autumn', 'auxerre', 'available', 'avalanches', 'ave', 'avenges', 'avenues', 'avert', 'averted', 'aviation', 'avocados', 'avoid', 'avoidance', 'avoiding', 'avoids', 'await', 'awaiting', 'awaits', 'awakening', 'award', 'awarded', 'awards', 'aware', 'awareness', 'away', 'awb', 'awe', 'awed', 'awol', 'awu', 'axe', 'axed', 'axel', 'axeman', 'axes', 'axis', 'aynaoui', 'ayr', 'azzurri', 'b52', 'baath', 'babies', 'babri', 'baby', 'babyholic', 'babys', 'bacher', 'bachtiar', 'backbench', 'backbencher', 'backdown', 'backdrop', 'backflip', 'backhands', 'backing', 'backlash', 'backpacker', 'backpedals', 'backs', 'backstroke', 'bacon', 'bad', 'baddeleys', 'badly', 'baffles', 'bafta', 'bag', 'bagdad', 'baggy', 'baghdad', 'baghdads', 'bags', 'bail', 'baildon', 'bailed', 'bairnsdale', 'baiting', 'bakar', 'balance', 'balanced', 'balcony', 'bali', 'ball', 'ballack', 'ballad', 'ballarat', 'ballina', 'ballistic', 'balloon', 'ballooning', 'ballot', 'ballymore', 'ban', 'banana', 'bananas', 'bandit', 'bangkok', 'bangladesh', 'bangladeshi', 'bangladeshs', 'bank', 'bankcards', 'banking', 'bankruptcy', 'banks', 'bankstown', 'banned', 'bans', 'baptist', 'bar', 'barbie', 'barca', 'barcelona', 'barcoo', 'bare', 'barely', 'bargain', 'bargaining', 'barge', 'bargin', 'baritone', 'barmera', 'barr', 'barra', 'barrage', 'barrichello', 'barrichellos', 'barrier', 'barrister', 'barry', 'bars', 'barthez', 'bartholomeuz', 'bartlett', 'barwon', 'base', 'baseball', 'based', 'basel', 'bases', 'bashed', 'bashing', 'bashir', 'basic', 'basics', 'basin', 'basins', 'basis', 'basra', 'bass', 'basslink', 'bat', 'batchelor', 'batemans', 'bathhouse', 'batman', 'bats', 'battalion', 'battens', 'batteuxs', 'battle', 'battles', 'battling', 'baxter', 'bay', 'bayarri', 'bayer', 'bayern', 'bayerns', 'bays', 'bayswater', 'bcc', 'beach', 'beaches', 'beachley', 'beacon', 'beacons', 'bear', 'bears', 'beat', 'beaten', 'beating', 'beatle', 'beats', 'beattie', 'beazley', 'beckham', 'bed', 'bedi', 'bedouin', 'bedroom', 'beds', 'beechford', 'beef', 'beefs', 'beekeepers', 'beer', 'beers', 'beetle', 'beg', 'bega', 'begay', 'beggars', 'begin', 'beginning', 'begins', 'begun', 'behave', 'behaviour', 'beijing', 'beirut', 'bekele', 'belfast', 'belgian', 'belgium', 'belgrade', 'believe', 'believed', 'believers', 'belittling', 'bell', 'bellamy', 'belles', 'belohvosciks', 'belt', 'bench', 'benchmark', 'bendigo', 'beneath', 'benefit', 'benefiting', 'benefits', 'benitez', 'bequest', 'berger', 'bergkamp', 'berlin', 'berne', 'bernstein', 'berri', 'berth', 'berths', 'best', 'bet', 'betis', 'better', 'betting', 'bettini', 'bevan', 'beware', 'bhp', 'bhumibol', 'bhutan', 'bias', 'biased', 'bichel', 'bickering', 'bid', 'bidding', 'bids', 'big', 'biggest', 'bike', 'bikeway', 'bikie', 'bilateral', 'bilby', 'billing', 'billion', 'billionaires', 'billions', 'billiton', 'bills', 'bin', 'binge', 'bio', 'biological', 'biologist', 'biosphere', 'bipartisan', 'bird', 'birdies', 'birds', 'birdsville', 'birmingham', 'birth', 'birthday', 'birthing', 'biscayne', 'bishop', 'bite', 'bites', 'biting', 'black', 'blackall', 'blacklock', 'blackmail', 'blackmails', 'blackout', 'blackshirts', 'blair', 'blake', 'blame', 'blamed', 'blames', 'blast', 'blasted', 'blasts', 'blatant', 'blatter', 'blayney', 'blaze', 'blazes', 'blazing', 'bleeding', 'bleeds', 'blend', 'blended', 'blends', 'blew', 'blewett', 'bligh', 'blighted', 'blignaut', 'blinding', 'blitz', 'blitzed', 'blitzes', 'blix', 'blizzard', 'blobs', 'block', 'blockade', 'blocked', 'blocking', 'blocks', 'blokes', 'blood', 'bloodier', 'bloodshed', 'bloody', 'bloom', 'blooms', 'blow', 'blowout', 'blowouts', 'blue', 'blues', 'blunder', 'bmw', 'board', 'boarders', 'boarding', 'boards', 'boardshorts', 'boat', 'boaties', 'boating', 'boats', 'boavista', 'boca', 'bochum', 'bodies', 'body', 'bodyguards', 'bog', 'bogged', 'boksic', 'bold', 'bolivar', 'bolivia', 'bolster', 'bolsters', 'bolton', 'bomaderry', 'bomb', 'bombarded', 'bombardment', 'bombay', 'bombed', 'bomber', 'bombers', 'bombing', 'bombings', 'bombs', 'bond', 'bonds', 'bone', 'bones', 'bonlac', 'bonus', 'boodnikoff', 'book', 'bookies', 'booklet', 'books', 'boom', 'boome', 'booms', 'boon', 'boonah', 'boost', 'boosted', 'boosting', 'boosts', 'boots', 'booze', 'bora', 'bordeau', 'border', 'borders', 'bore', 'born', 'boro', 'borroloola', 'borrows', 'bortolo', 'bosnian', 'bosnich', 'boss', 'bosses', 'boston', 'botanic', 'botched', 'botero', 'bottle', 'bottles', 'bottling', 'bottoms', 'boucher', 'bougainville', 'bought', 'boulami', 'boulder', 'boulia', 'bounce', 'bounces', 'bound', 'boundaries', 'boundary', 'bounty', 'bourke', 'bout', 'bow', 'bowden', 'bowl', 'bowlers', 'bowling', 'bows', 'box', 'boxing', 'boy', 'boycott', 'boycotting', 'boycotts', 'boyfriend', 'boys', 'bp', 'brace', 'braces', 'bracken', 'bracks', 'bradman', 'brain', 'brainstorms', 'brakes', 'branches', 'branching', 'brand', 'branded', 'brands', 'brasher', 'brave', 'bravery', 'brawl', 'brazil', 'brazilian', 'brazils', 'breach', 'breached', 'breaching', 'break', 'breakaway', 'breakdown', 'breakers', 'breaking', 'breakout', 'breaks', 'breakthrough', 'breast', 'breastfeed', 'breastfeeding', 'breaststroke', 'breathing', 'bred', 'breeding', 'brews', 'bricks', 'bridge', 'bridgehead', 'bridges', 'brief', 'briefcase', 'briefed', 'briefs', 'brigadier', 'bright', 'brighten', 'brighter', 'brighton', 'brilliance', 'bring', 'bringing', 'brings', 'brink', 'bris', 'brisbane', 'bristol', 'brit', 'britain', 'britains', 'british', 'briton', 'britons', 'brits', 'brizuela', 'brl', 'broadband', 'broadcast', 'broadcaster', 'broadcasters', 'broadcasting', 'broadcasts', 'broader', 'broadford', 'broadsound', 'broadway', 'brochure', 'brockovich', 'brogden', 'broken', 'broking', 'brom', 'broncos', 'brookdale', 'brooloo', 'broome', 'brothel', 'brothels', 'brother', 'brothers', 'brown', 'brownlow', 'brumbies', 'brumby', 'brundle', 'brutal', 'bryant', 'bryants', 'bryce', 'buchanan', 'bucher', 'buddhist', 'budget', 'buenos', 'buffer', 'bug', 'buggy', 'build', 'builder', 'builders', 'building', 'buildings', 'built', 'bulk', 'bulldogs', 'bulldozer', 'bullet', 'bullets', 'bulli', 'bullied', 'bulls', 'bullying', 'bumper', 'bun', 'bunbury', 'bundaberg', 'bundesliga', 'bundoora', 'bungle', 'bunker', 'bunnies', 'buoyant', 'burden', 'bureau', 'bureaucracy', 'bureaucrats', 'burger', 'burglar', 'burglaries', 'burglary', 'buried', 'buries', 'burke', 'burleigh', 'burley', 'burma', 'burmas', 'burmese', 'burn', 'burned', 'burning', 'burnley', 'burns', 'burnt', 'burrendong', 'burrinjuck', 'burrup', 'burst', 'burston', 'bursts', 'burtson', 'burundi', 'bury', 'bus', 'busch', 'buses', 'bush', 'bushfire', 'bushfires', 'bushland', 'bushmaster', 'bushrangers', 'bushs', 'bushwalker', 'busier', 'business', 'businesses', 'businessman', 'busker', 'busselton', 'bust', 'busters', 'busy', 'butchered', 'butchers', 'butler', 'butt', 'butterflies', 'butterfly', 'button', 'buy', 'buyer', 'buyers', 'buying', 'buys', 'byo', 'bypass', 'cabin', 'cabinet', 'caboolture', 'caddy', 'cadell', 'cafe', 'cafeteria', 'cafl', 'caines', 'cairns', 'calculation', 'calder', 'caledonia', 'caley', 'calf', 'cali', 'california', 'californian', 'called', 'calleri', 'calling', 'callous', 'calls', 'callus', 'calm', 'calms', 'caloundra', 'caltex', 'cambodia', 'cambodian', 'cambodias', 'came', 'camera', 'cameraman', 'cameramans', 'cameras', 'camp', 'campaign', 'campaigned', 'campaigning', 'campaigns', 'campaspe', 'campbell', 'camplin', 'camps', 'campsie', 'campus', 'canada', 'canadian', 'canal', 'canberra', 'cancel', 'cancellation', 'cancelled', 'cancels', 'cancer', 'candidate', 'candidates', 'candleholders', 'cane', 'caned', 'canegrower', 'canegrowers', 'canio', 'cannabis', 'canning', 'cannon', 'cannons', 'canoe', 'canoeist', 'canola', 'canterbury', 'canvassing', 'canyon', 'canyoners', 'cap', 'capabilities', 'capability', 'capable', 'capacity', 'cape', 'capel', 'capella', 'capello', 'capital', 'capitalise', 'capitals', 'capitulation', 'capped', 'capriati', 'caps', 'capsicum', 'capsizes', 'captain', 'captaincy', 'captains', 'captives', 'capture', 'captured', 'captures', 'car', 'carats', 'caravan', 'carcass', 'card', 'cardiac', 'cardiologists', 'cards', 'care', 'career', 'careflight', 'carers', 'caretaker', 'carew', 'carews', 'carey', 'cargill', 'caribbean', 'caricature', 'carl', 'carlos', 'carlton', 'carmichael', 'carnage', 'carnival', 'carpark', 'carpentaria', 'carpet', 'carr', 'carried', 'carrier', 'carries', 'carrigan', 'carrs', 'carry', 'carrying', 'cars', 'carseldine', 'cart', 'cartel', 'carter', 'cartoonists', 'caryards', 'casa', 'casanova', 'case', 'cases', 'cash', 'casino', 'cast', 'castaignede', 'castle', 'castleford', 'castro', 'casual', 'casualties', 'casualty', 'cat', 'catalan', 'catalogue', 'catalunya', 'cataract', 'catch', 'catches', 'catching', 'catchment', 'catchments', 'categories', 'cathie', 'catholic', 'catholics', 'cats', 'cattle', 'cattlemen', 'caucus', 'caught', 'cauldron', 'cause', 'caused', 'causes', 'causing', 'caution', 'cautious', 'caves', 'cawley', 'cbd', 'cdep', 'cease', 'ceasefire', 'cede', 'ceduna', 'celebrate', 'celebrates', 'celebrations', 'cell', 'cellar', 'celtic', 'celts', 'cemeteries', 'cemetery', 'censored', 'censorship', 'census', 'central', 'centralise', 'centre', 'centrebet', 'centrelink', 'centres', 'cents', 'centuries', 'century', 'ceo', 'ceos', 'ceremony', 'certain', 'certainty', 'cervical', 'cesar', 'cessnock', 'cfa', 'cfmeu', 'cfo', 'cfs', 'chaffey', 'chain', 'chair', 'chairing', 'chairman', 'challenge', 'challenger', 'challengers', 'challenges', 'chamber', 'chambers', 'champ', 'champion', 'champions', 'championship', 'championships', 'champs', 'chance', 'chances', 'change', 'changed', 'changes', 'changing', 'channel', 'chaos', 'chaotic', 'chaplain', 'chaplains', 'chappell', 'chappells', 'charade', 'charge', 'charged', 'charges', 'charging', 'charity', 'charleston', 'charlestown', 'charleville', 'charlton', 'chart', 'charters', 'charvis', 'chase', 'chased', 'chases', 'chasing', 'chat', 'chavez', 'cheaper', 'cheat', 'chechen', 'chechnya', 'check', 'checked', 'checkpoint', 'checks', 'cheek', 'cheerful', 'cheese', 'chela', 'chelsea', 'chem', 'chemical', 'chemicals', 'chemist', 'cheque', 'cheques', 'cherry', 'chest', 'chewing', 'chews', 'chicago', 'chick', 'chicken', 'chief', 'chiefs', 'chiesa', 'chievo', 'child', 'childcare', 'childhood', 'childish', 'children', 'childrens', 'childs', 'chile', 'chilean', 'chiles', 'chili', 'chilling', 'chimney', 'chin', 'china', 'chinas', 'chinese', 'chips', 'chirac', 'chiropractor', 'chlamydia', 'choice', 'choir', 'choirs', 'choke', 'choking', 'chooses', 'chop', 'chopper', 'choppers', 'chosen', 'chris', 'christchurch', 'christian', 'christmas', 'chroming', 'chucker', 'chunky', 'church', 'churches', 'churchman', 'cia', 'cicada', 'cigarette', 'cipollini', 'circuit', 'circus', 'cit', 'cite', 'cited', 'cites', 'cities', 'citizen', 'citizens', 'citizenship', 'citrus', 'city', 'citylink', 'civic', 'civil', 'civilian', 'civilians', 'civoniceva', 'claim', 'claimed', 'claiming', 'claims', 'clamber', 'clamp', 'clamps', 'clarence', 'clarifies', 'clarify', 'clark', 'clarke', 'clarkes', 'clarks', 'clash', 'clashes', 'class', 'classes', 'classic', 'classy', 'clavet', 'claw', 'claws', 'clay', 'clean', 'cleaned', 'cleaning', 'cleans', 'clear', 'clearance', 'cleared', 'clearer', 'clearing', 'clearout', 'clears', 'clemency', 'clergymen', 'cleric', 'cliff', 'cliffhanger', 'clijsters', 'climate', 'climb', 'climbs', 'clinch', 'cling', 'clinic', 'clinton', 'clip', 'clips', 'cloning', 'close', 'closed', 'closer', 'closes', 'closest', 'closing', 'closure', 'closures', 'clot', 'clots', 'cloud', 'clp', 'clps', 'club', 'clubhouse', 'clubs', 'clues', 'cluster', 'clutching', 'clydesdales', 'cmc', 'cmo', 'cnn', 'coach', 'coaches', 'coaching', 'coachs', 'coal', 'coalition', 'coalitions', 'coalmine', 'coast', 'coastal', 'coasters', 'coasting', 'coastline', 'coasts', 'cobar', 'cobaw', 'cobreloa', 'coca', 'cock', 'cocktail', 'code', 'coetzer', 'coffs', 'cohen', 'cohesion', 'coil', 'coin', 'coincide', 'coke', 'cola', 'cold', 'cole', 'coleman', 'coles', 'collaboration', 'collapse', 'collapses', 'collared', 'colleague', 'collect', 'collection', 'college', 'collide', 'collingwood', 'collins', 'collision', 'collusion', 'colo', 'colombia', 'colombian', 'colombias', 'colon', 'colonel', 'colonial', 'columbia', 'columbian', 'column', 'columnist', 'combat', 'combined', 'come', 'comeback', 'comedy', 'comes', 'comfort', 'coming', 'comm', 'command', 'commander', 'commanders', 'commandos', 'commemorate', 'commends', 'comment', 'comments', 'commerce', 'commercial', 'commercially', 'commericials', 'commission', 'commissioner', 'commissioners', 'commissions', 'commit', 'commitment', 'commitments', 'commits', 'committal', 'committed', 'committee', 'commodities', 'commodity', 'common', 'commonplace', 'commonwealth', 'communication', 'communications', 'communities', 'community', 'commuter', 'commuters', 'comp', 'companies', 'company', 'companys', 'comparable', 'compared', 'compassion', 'compensate', 'compensation', 'compete', 'competence', 'competition', 'competitions', 'competitiveness', 'complacency', 'complain', 'complains', 'complaint', 'complaints', 'complete', 'completed', 'completes', 'completion', 'complex', 'compliance', 'complies', 'compo', 'compound', 'compounds', 'compromise', 'compromised', 'compulsory', 'computer', 'comrades', 'conceal', 'concede', 'concedes', 'conceived', 'concentrate', 'concern', 'concerned', 'concerns', 'concert', 'concerts', 'concludes', 'concorde', 'concrete', 'condamine', 'condemn', 'condemnation', 'condemned', 'condemns', 'condition', 'conditions', 'condolence', 'condolences', 'conduct', 'conductor', 'conduit', 'conference', 'conferences', 'confessed', 'confession', 'confidence', 'confident', 'confined', 'confirm', 'confirmation', 'confirmed', 'confirms', 'confiscated', 'conflict', 'conflicting', 'confront', 'confused', 'confuses', 'confusion', 'congas', 'congo', 'congratulates', 'congress', 'conjola', 'conman', 'connection', 'connections', 'connolly', 'conscience', 'conscientious', 'consensus', 'consent', 'consequences', 'conservation', 'conservationists', 'conservatives', 'conserve', 'conserving', 'consider', 'consideration', 'considered', 'considering', 'considers', 'consistency', 'consolidate', 'constables', 'constitutional', 'constraint', 'construction', 'consulate', 'consult', 'consultants', 'consultation', 'consultations', 'consulted', 'consumer', 'consumers', 'contact', 'contacting', 'contagion', 'contagious', 'contain', 'contained', 'container', 'containment', 'contaminated', 'contamination', 'contemplating', 'contempt', 'content', 'contention', 'contest', 'contested', 'continental', 'contingency', 'contingent', 'continue', 'continued', 'continues', 'continuing', 'contract', 'contracting', 'contractor', 'contracts', 'contradictory', 'contribute', 'contributed', 'contribution', 'contributors', 'contrite', 'control', 'controlled', 'controls', 'controversial', 'controversy', 'convenience', 'convention', 'converge', 'convicted', 'conviction', 'convince', 'convoy', 'coober', 'cook', 'cooke', 'cooks', 'cooktown', 'cool', 'cooler', 'cooloola', 'cooma', 'coonawarra', 'cooperate', 'cooperation', 'cooperative', 'coordinate', 'coot', 'cop', 'cope', 'copenhagen', 'copper', 'cops', 'copy', 'copyright', 'coraki', 'coral', 'coramba', 'coria', 'corinithians', 'corinthians', 'corks', 'coronation', 'coroner', 'coroners', 'coronial', 'corp', 'corporate', 'corporations', 'correctional', 'corrects', 'correspondent', 'corrupt', 'corruption', 'corser', 'cosgrove', 'cosmetic', 'cosmic', 'cosmonauts', 'cossack', 'cost', 'costa', 'costello', 'costings', 'costly', 'costs', 'cottages', 'cotton', 'cough', 'coulthard', 'council', 'councillor', 'councillors', 'councils', 'counsel', 'counselling', 'counsellors', 'count', 'counted', 'counter', 'counterattack', 'counterfeit', 'counting', 'countries', 'country', 'counts', 'coup', 'couple', 'couples', 'course', 'court', 'courthouse', 'courtrooms', 'courts', 'cousins', 'cousinss', 'coventry', 'cover', 'coverage', 'covered', 'covering', 'cowboys', 'cox', 'cq', 'cqu', 'crab', 'crabbing', 'crack', 'crackdown', 'cracked', 'cracking', 'craft', 'craftsmens', 'craig', 'crane', 'crank', 'cranky', 'crash', 'crashed', 'crashes', 'craves', 'crayfish', 'craze', 'crazy', 'cream', 'crean', 'creans', 'creates', 'creator', 'credibility', 'credit', 'credited', 'creditors', 'creek', 'creep', 'creeps', 'cremated', 'cremationed', 'cresswell', 'crew', 'crewing', 'crews', 'cricket', 'cricketers', 'cricketing', 'crickets', 'cries', 'crime', 'crimes', 'criminal', 'crippled', 'crisis', 'cristal', 'criteria', 'criterium', 'critic', 'critical', 'critically', 'criticise', 'criticised', 'criticises', 'criticism', 'criticisms', 'critics', 'croatia', 'croc', 'crocs', 'cronje', 'crookwell', 'croons', 'crop', 'crops', 'cross', 'crossbow', 'crosses', 'crossing', 'crossings', 'crowd', 'crowds', 'crowe', 'crown', 'crowned', 'crows', 'croydon', 'crucifixion', 'crude', 'cruelty', 'cruise', 'cruiseboat', 'cruises', 'crunch', 'crunching', 'crusade', 'crusaders', 'crush', 'crushed', 'crushes', 'crushing', 'csiro', 'csl', 'csr', 'cuba', 'cuban', 'cubs', 'cuckoo', 'cuffed', 'cull', 'culling', 'culls', 'cultural', 'culture', 'cup', 'cuper', 'curb', 'curbishley', 'cure', 'cured', 'cureton', 'curtain', 'curve', 'cushion', 'custody', 'customary', 'customers', 'customs', 'cut', 'cuthbert', 'cuts', 'cutting', 'cuttlefish', 'cwa', 'cwealth', 'cyanide', 'cyber', 'cycle', 'cycleway', 'cycling', 'cyclings', 'cyclists', 'cyclone', 'cylinders', 'cypriot', 'cyprus', 'cyrus', 'czech', 'da', 'dad', 'daily', 'dairy', 'daisy', 'dalby', 'dale', 'dali', 'dalton', 'dam', 'damage', 'damaged', 'damages', 'damn', 'damns', 'dampen', 'dampens', 'dams', 'dance', 'dancers', 'danger', 'dangerman', 'dangerous', 'dangers', 'dangle', 'danish', 'darcy', 'dardanup', 'dare', 'dareton', 'dargo', 'dark', 'darken', 'darkness', 'darling', 'darwin', 'data', 'date', 'dates', 'daubed', 'daughter', 'daughters', 'dauphine', 'davao', 'davenport', 'davey', 'davies', 'davis', 'davison', 'dawes', 'dawkins', 'dawn', 'day', 'daylight', 'days', 'dcp', 'dead', 'deadline', 'deadlock', 'deadly', 'deal', 'dealer', 'dealers', 'dealing', 'dealings', 'deals', 'dealt', 'dean', 'deane', 'deans', 'dear', 'death', 'deaths', 'debate', 'debated', 'debit', 'debt', 'debut', 'decades', 'decapitation', 'deceit', 'december', 'dechy', 'decide', 'decided', 'decider', 'decides', 'decision', 'decisions', 'deck', 'declaration', 'declare', 'declared', 'declares', 'declaring', 'decline', 'declines', 'decrease', 'dedicates', 'deduction', 'deeds', 'deems', 'deep', 'deepen', 'deer', 'dees', 'defamation', 'defaulters', 'defeat', 'defeated', 'defeats', 'defecting', 'defence', 'defences', 'defend', 'defended', 'defender', 'defending', 'defends', 'defense', 'defensive', 'defers', 'deficit', 'defies', 'define', 'deflects', 'deformity', 'defrauding', 'defrauds', 'defunct', 'defused', 'defy', 'del', 'delaney', 'delay', 'delayed', 'delaying', 'delays', 'delegation', 'deliberate', 'deliberately', 'deliberates', 'delighted', 'delights', 'deliver', 'delivered', 'delivers', 'deloitte', 'delray', 'deluge', 'demand', 'demands', 'demerit', 'demerits', 'demetriou', 'demise', 'democracy', 'democratic', 'democrats', 'demolish', 'demolished', 'demolishes', 'demolition', 'demons', 'demonstrations', 'demonstrators', 'demountable', 'dems', 'den', 'dengue', 'denial', 'denied', 'denies', 'denmark', 'denounce', 'denounces', 'density', 'dent', 'dental', 'dentists', 'dents', 'deny', 'denying', 'dep', 'departed', 'department', 'departs', 'departure', 'dependent', 'depleted', 'deplore', 'deploy', 'deployed', 'deployment', 'deport', 'deportation', 'deported', 'deporting', 'deportivo', 'deposit', 'deposits', 'depot', 'depressed', 'dept', 'deputy', 'der', 'derailment', 'derails', 'derby', 'deregulated', 'deregulation', 'derelict', 'derwent', 'desailly', 'desalination', 'deschamps', 'describes', 'desert', 'deserves', 'design', 'designer', 'designs', 'desire', 'despair', 'desperate', 'desperately', 'despite', 'despondent', 'despotovski', 'destined', 'destroy', 'destroyed', 'destroying', 'destroys', 'destruction', 'detailed', 'detailing', 'details', 'detain', 'detained', 'detainee', 'detainees', 'detains', 'detective', 'detention', 'deter', 'determination', 'determine', 'determined', 'deterrent', 'dethrones', 'detract', 'devastated', 'develop', 'developed', 'developer', 'developers', 'developing', 'development', 'develops', 'device', 'devils', 'devises', 'devonish', 'devour', 'dexterity', 'dfat', 'dha', 'dhaka', 'di', 'diabetes', 'dialogue', 'dialysis', 'diamond', 'diaspora', 'did', 'dida', 'didnt', 'die', 'dies', 'diesel', 'diet', 'difference', 'differences', 'different', 'difficult', 'difficulties', 'dig', 'digger', 'digging', 'digital', 'digs', 'dilemma', 'dili', 'dimarco', 'dingo', 'dinner', 'dinosaur', 'diouf', 'dioxin', 'diplomacy', 'diplomat', 'diplomatic', 'diplomats', 'dips', 'dire', 'direct', 'directed', 'direction', 'directions', 'directive', 'director', 'directors', 'dirty', 'disability', 'disable', 'disabled', 'disallowing', 'disappearance', 'disappearing', 'disappoint', 'disappointed', 'disappointing', 'disappointment', 'disappoints', 'disarm', 'disarmament', 'disarmed', 'disarray', 'disaster', 'disasters', 'discard', 'discarded', 'discharged', 'disciplinary', 'discipline', 'disciplined', 'disclose', 'disclosure', 'disconnected', 'discouraged', 'discover', 'discovered', 'discovers', 'discovery', 'discretion', 'discrimination', 'discuss', 'discussed', 'discusses', 'discussion', 'disease', 'disgraceful', 'disguising', 'disgusted', 'dishes', 'disillusionment', 'dismantle', 'dismantles', 'dismiss', 'dismissal', 'dismissed', 'dismisses', 'disney', 'displaced', 'display', 'displays', 'dispute', 'disqualification', 'disrupt', 'disrupts', 'dissidents', 'dissolution', 'distance', 'distract', 'distressed', 'distributed', 'distribution', 'distributor', 'district', 'disturb', 'disturbed', 'disunity', 'ditch', 'dive', 'divers', 'diverse', 'diversion', 'diversity', 'divide', 'divided', 'diving', 'division', 'divisions', 'divorce', 'dixon', 'dizzy', 'dj', 'djindjic', 'djs', 'dna', 'dob', 'dock', 'dockers', 'docking', 'docklands', 'docks', 'docs', 'doctor', 'doctored', 'doctors', 'document', 'documentary', 'documents', 'dodge', 'dodges', 'dodgy', 'does', 'doesnt', 'dog', 'doggies', 'dogs', 'doig', 'doing', 'dokic', 'dole', 'dollar', 'dollars', 'dolphin', 'dolphins', 'domestic', 'dominance', 'dominate', 'dominates', 'dominguez', 'don', 'donald', 'donate', 'donated', 'donates', 'donation', 'donations', 'dongara', 'dons', 'dont', 'doolan', 'doom', 'dooms', 'door', 'doors', 'doorstep', 'dope', 'doping', 'doral', 'dortmund', 'dose', 'double', 'doubled', 'doubling', 'doubly', 'doubt', 'doubters', 'doubtful', 'doubts', 'douglas', 'downed', 'downer', 'downers', 'downfall', 'downgraded', 'downloading', 'downplay', 'downplays', 'downpour', 'downs', 'downshifts', 'downsize', 'downturn', 'downward', 'downwards', 'doyle', 'dozen', 'dozens', 'dpp', 'dr', 'dracula', 'draft', 'drafts', 'drag', 'dragila', 'dragons', 'drain', 'drainage', 'drama', 'dramatic', 'drape', 'draper', 'dravid', 'draw', 'drawn', 'draws', 'drcongo', 'dream', 'dreaming', 'dreams', 'dredge', 'dredging', 'drenched', 'drenching', 'dried', 'drift', 'drifting', 'drilling', 'drink', 'drinkers', 'drinking', 'drive', 'driver', 'drivers', 'drives', 'driveway', 'driving', 'drone', 'drop', 'dropped', 'dropping', 'droppings', 'drops', 'drought', 'drown', 'drowned', 'drowns', 'drug', 'drugs', 'drum', 'drunkenness', 'dry', 'dryland', 'dubai', 'dubbo', 'dublin', 'ducasse', 'duck', 'ducks', 'duckworth', 'dudek', 'duel', 'dug', 'dukes', 'dumb', 'dumbledore', 'dump', 'dumped', 'dundee', 'dunfermline', 'dung', 'duo', 'duplex', 'durban', 'dust', 'dutch', 'duties', 'duty', 'dvds', 'dying', 'dynasty', 'eager', 'eagles', 'ear', 'earlier', 'early', 'earn', 'earned', 'earners', 'earnings', 'earns', 'earth', 'earthquake', 'ease', 'eased', 'eases', 'easier', 'easing', 'east', 'easter', 'eastern', 'eba', 'ebola', 'ec', 'ecb', 'ecclestone', 'eckstein', 'eco', 'economic', 'economising', 'economist', 'economists', 'economy', 'ecstasy', 'ectasy', 'ecuador', 'ecuadors', 'ed', 'eddys', 'edge', 'edges', 'edging', 'edi', 'edict', 'edilson', 'editor', 'editorial', 'edmond', 'edmundos', 'educated', 'education', 'educator', 'edwards', 'eels', 'effect', 'effective', 'effects', 'effenberg', 'efficiency', 'effluent', 'effort', 'efforts', 'egg', 'eggs', 'egypt', 'egyptian', 'eighth', 'eis', 'ejects', 'el', 'elbaradei', 'elber', 'elderly', 'elders', 'eldest', 'elect', 'elected', 'election', 'elections', 'electoral', 'electorate', 'electric', 'electricians', 'electricity', 'electrocuted', 'electrolux', 'electronic', 'elects', 'elevators', 'eligible', 'eliminate', 'elimination', 'elite', 'elizabeth', 'elka', 'elkington', 'elland', 'ellis', 'els', 'elster', 'elura', 'emails', 'embark', 'embarrassed', 'embarrasses', 'embassy', 'embedded', 'embedding', 'embrace', 'embraces', 'embryo', 'emelec', 'emergencies', 'emergency', 'emerging', 'emerton', 'emirates', 'emission', 'emissions', 'emkanimblaem', 'emotional', 'employ', 'employee', 'employees', 'employers', 'employing', 'employment', 'emulate', 'en', 'enact', 'encircle', 'encounter', 'encourage', 'encouraged', 'encourages', 'encouraging', 'end', 'endanger', 'endangered', 'ending', 'endorsenent', 'endorses', 'ends', 'enemies', 'energy', 'enforce', 'enforced', 'engage', 'engaged', 'engagements', 'engages', 'engine', 'engineer', 'engineering', 'engineers', 'engines', 'england', 'englands', 'english', 'engulfed', 'enhances', 'enjoy', 'enjoys', 'enlivens', 'enqvist', 'enraged', 'enriching', 'enright', 'enrique', 'enrol', 'enron', 'ensure', 'ensures', 'entally', 'enter', 'entered', 'entering', 'enterprise', 'enters', 'entertaining', 'entertainment', 'enthroned', 'entire', 'entitled', 'entitlements', 'entomb', 'entrance', 'entrapment', 'entrench', 'entries', 'entry', 'environment', 'environmental', 'environmentally', 'envoy', 'envoys', 'epa', 'epenarra', 'epstein', 'equaliser', 'equality', 'equestrian', 'equipment', 'eradicate', 'eradication', 'ergon', 'erica', 'eriksson', 'erosion', 'error', 'erupts', 'escape', 'escaped', 'escapee', 'escapes', 'escude', 'esperance', 'esplanade', 'essay', 'essendon', 'essential', 'esso', 'establish', 'established', 'estate', 'esteemed', 'ethanol', 'ethanols', 'ethics', 'ethiopias', 'ethnic', 'etienne', 'eu', 'euphrates', 'euro', 'eurobodalla', 'europe', 'european', 'europeans', 'euthanasia', 'evacuate', 'evacuated', 'evacuates', 'evacuation', 'evaluates', 'evans', 'evaporation', 'evening', 'event', 'events', 'eventuates', 'everitt', 'everton', 'evict', 'evicted', 'eviction', 'evidence', 'evil', 'ex', 'exacts', 'examination', 'examine', 'examines', 'examining', 'exceeding', 'exceeds', 'excel', 'excellent', 'exchange', 'excuse', 'excused', 'exec', 'executed', 'executing', 'execution', 'executions', 'executive', 'executives', 'exempted', 'exemptions', 'exercise', 'exhaust', 'exhibition', 'exile', 'exist', 'exit', 'exits', 'exodus', 'expand', 'expanded', 'expanding', 'expands', 'expansion', 'expect', 'expectations', 'expected', 'expecting', 'expects', 'expedition', 'expel', 'expelled', 'expels', 'expenditure', 'expense', 'expensive', 'experience', 'experiencing', 'experiment', 'experimental', 'expert', 'experts', 'expires', 'explain', 'explains', 'explicit', 'explodes', 'exploitation', 'exploration', 'explorations', 'explore', 'explored', 'explorers', 'explores', 'exploring', 'explosion', 'explosions', 'explosive', 'explosives', 'expo', 'export', 'exporters', 'exports', 'express', 'expressions', 'expulsion', 'extend', 'extended', 'extends', 'extension', 'extent', 'extinct', 'extinction', 'extinguished', 'extortion', 'extra', 'extradite', 'extradited', 'extradition', 'extreme', 'extremism', 'extremist', 'extrication', 'eye', 'eyeing', 'eyes', 'eyesore', 'eyewitness', 'f1', 'fa', 'facade', 'face', 'facelift', 'faces', 'facilities', 'facility', 'facing', 'factfile', 'factional', 'facto', 'factor', 'factory', 'factos', 'fade', 'fading', 'fai', 'fail', 'failed', 'failing', 'fails', 'failure', 'fair', 'fairfax', 'fairness', 'fairytale', 'faith', 'faiths', 'fake', 'falconer', 'faldo', 'fall', 'fallen', 'falling', 'fallout', 'falls', 'false', 'falter', 'falters', 'falun', 'fame', 'families', 'familiies', 'family', 'famous', 'fan', 'fanning', 'fans', 'fao', 'far', 'fare', 'farewell', 'farewelled', 'farewells', 'farina', 'farinas', 'farm', 'farmed', 'farmer', 'farmers', 'farmhands', 'farming', 'farms', 'fashion', 'fashions', 'fast', 'faster', 'fastest', 'fat', 'fatal', 'fatalities', 'fatality', 'fatally', 'fate', 'father', 'fathers', 'fatigue', 'fatigued', 'fault', 'favour', 'favoured', 'favourite', 'favourites', 'favouritism', 'favours', 'fear', 'feared', 'fears', 'feasibility', 'feast', 'feathers', 'feature', 'features', 'february', 'fed', 'fedayeen', 'federal', 'federation', 'federer', 'fedorov', 'fee', 'feed', 'feel', 'feeling', 'feelings', 'feels', 'fees', 'feet', 'feline', 'fell', 'felled', 'fellowships', 'fels', 'felt', 'female', 'fence', 'fenced', 'fencing', 'fenix', 'feofanova', 'feral', 'ferarri', 'fergie', 'fergies', 'ferguson', 'fernandez', 'ferrari', 'ferreira', 'ferrero', 'ferreros', 'ferries', 'ferry', 'festival', 'festivals', 'fetch', 'feud', 'fever', 'fewer', 'feyenoord', 'fia', 'fiance', 'fiba', 'fickle', 'fiction', 'field', 'fielder', 'fields', 'fierce', 'fiery', 'fifa', 'fifth', 'fight', 'fighter', 'fighters', 'fighting', 'fights', 'figtree', 'figure', 'figures', 'fiji', 'files', 'filling', 'film', 'filmed', 'filming', 'films', 'filthy', 'fina', 'final', 'finale', 'finalise', 'finalised', 'finalists', 'finally', 'finals', 'finance', 'financed', 'finances', 'financial', 'financing', 'finding', 'findings', 'finds', 'fine', 'fined', 'finegan', 'fines', 'finger', 'fingleton', 'finish', 'finished', 'finishes', 'finishing', 'finke', 'finnish', 'firearm', 'firearms', 'fireball', 'firebreak', 'fired', 'firefight', 'firefighter', 'firefighters', 'firefighting', 'firepower', 'fires', 'fireweed', 'firies', 'firing', 'firm', 'firms', 'fischer', 'fish', 'fisher', 'fisheries', 'fisherman', 'fishermen', 'fishers', 'fishery', 'fishing', 'fisichella', 'fit', 'fitness', 'fitz', 'fitzgeralds', 'fitzroy', 'fix', 'fixed', 'fizzle', 'flag', 'flags', 'flak', 'flame', 'flamengo', 'flames', 'flamingos', 'flanders', 'flank', 'flares', 'flash', 'flasher', 'flat', 'flavells', 'flavored', 'fled', 'fleeing', 'fleet', 'fleming', 'fletcher', 'flier', 'flies', 'flight', 'flights', 'flinders', 'flintoff', 'float', 'flock', 'flocking', 'flocks', 'flogging', 'flood', 'flooded', 'floodgates', 'flooding', 'floods', 'flop', 'flops', 'florentia', 'florida', 'flotilla', 'flow', 'flower', 'flowers', 'flown', 'flows', 'flu', 'fluke', 'fluminense', 'flushed', 'flutter', 'fly', 'flying', 'focus', 'focused', 'focuses', 'focusing', 'foi', 'fold', 'folding', 'folk', 'follow', 'followed', 'following', 'follows', 'food', 'foodchain', 'foolish', 'footage', 'football', 'footballer', 'footballers', 'footing', 'footsteps', 'footy', 'forbidden', 'force', 'forced', 'forces', 'forcing', 'forecast', 'forecaster', 'forecasters', 'forecasts', 'foreign', 'foreigners', 'forensic', 'foreseen', 'foreshadows', 'forest', 'forested', 'forestry', 'forests', 'foretold', 'forge', 'forget', 'forgetting', 'forging', 'forlan', 'form', 'formal', 'formed', 'formidable', 'forming', 'forms', 'formula', 'forrest', 'forsayth', 'forsyth', 'fortnight', 'fortune', 'forum', 'forward', 'fossil', 'foster', 'fosters', 'fought', 'foul', 'foundation', 'founder', 'foursome', 'fourteen', 'fourth', 'fowl', 'fox', 'foxes', 'foyer', 'fraction', 'fractured', 'fractures', 'fragile', 'frame', 'france', 'frances', 'francisco', 'francou', 'franks', 'frantic', 'fraser', 'fraternity', 'fraud', 'freak', 'free', 'freed', 'freedom', 'freely', 'freeman', 'freemans', 'frees', 'freestyle', 'freeway', 'freeze', 'freezer', 'freezes', 'freezing', 'freight', 'freighter', 'fremantle', 'french', 'frenzy', 'freo', 'fresh', 'frida', 'friday', 'fridge', 'friendly', 'friends', 'friendship', 'frightened', 'frigo', 'fringe', 'frogs', 'frontline', 'fronts', 'frosty', 'fruit', 'fruitpickers', 'frustrate', 'frustrated', 'frustrates', 'fta', 'fudging', 'fuel', 'fuelling', 'fuels', 'fulham', 'fume', 'fuming', 'fun', 'fund', 'funded', 'funding', 'fundraising', 'funds', 'funeral', 'fungus', 'funk', 'funny', 'furniture', 'fury', 'furyk', 'future', 'futures', 'fyffe', 'gabba', 'gadget', 'gag', 'gagged', 'gaggle', 'gain', 'gaining', 'gains', 'gale', 'gallery', 'gallipoli', 'gallop', 'galthie', 'gambier', 'gambill', 'gamble', 'gambling', 'game', 'games', 'gaming', 'gandhi', 'gandolfini', 'gang', 'gangs', 'ganguly', 'gannawarra', 'gap', 'gaps', 'garcia', 'garden', 'gardens', 'gartner', 'gas', 'gasp', 'gate', 'gatecrashers', 'gather', 'gathering', 'gathers', 'gatlin', 'gaudi', 'gauge', 'gay', 'gayle', 'gaza', 'gaze', 'gazza', 'gbh', 'ge', 'gear', 'gears', 'gebrselassie', 'gebrselassies', 'geelong', 'geese', 'gelez', 'gem', 'gembrook', 'gene', 'general', 'generals', 'generate', 'genetically', 'geneva', 'genuine', 'georgia', 'gerald', 'geraldton', 'geriatric', 'germ', 'german', 'germany', 'gerrard', 'gerrouj', 'gers', 'gestapo', 'gets', 'getting', 'gg', 'ghan', 'ghans', 'giant', 'giants', 'gift', 'giggs', 'gilbert', 'gilchrist', 'giles', 'gillespie', 'gilmore', 'ginger', 'gingin', 'gio', 'gippsland', 'girdler', 'girl', 'girlfriend', 'girls', 'giro', 'given', 'gives', 'giving', 'glad', 'gladstone', 'glamour', 'glaring', 'glebe', 'glen', 'glenelg', 'glide', 'glides', 'glitch', 'global', 'globe', 'gloom', 'gloomy', 'glory', 'gloves', 'glowing', 'gm', 'gmos', 'gnarabup', 'goal', 'goalless', 'goals', 'goat', 'goes', 'gogh', 'going', 'gold', 'goldcorp', 'golden', 'goldfields', 'goldman', 'golf', 'golfer', 'golfers', 'golfing', 'gollan', 'gone', 'gong', 'gongs', 'gonzalez', 'good', 'goodman', 'goods', 'goodwill', 'goolagong', 'goondiwindi', 'goorjian', 'goose', 'gosford', 'gough', 'goulburn', 'govern', 'governance', 'government', 'governments', 'governor', 'governors', 'govt', 'govts', 'goya', 'gp', 'gps', 'grab', 'grabs', 'gracemere', 'grade', 'graders', 'grads', 'graduates', 'graffiti', 'graft', 'grafton', 'graham', 'grain', 'grains', 'grand', 'grandstand', 'granite', 'grant', 'granted', 'grants', 'grape', 'grapes', 'grapevine', 'graphics', 'grapple', 'gras', 'grass', 'grasshoppers', 'grave', 'graves', 'gravity', 'grazier', 'graziers', 'grazing', 'great', 'greater', 'greatest', 'greece', 'green', 'greene', 'greenhouse', 'greenpeace', 'greens', 'greet', 'gregan', 'gregory', 'gremio', 'grenade', 'grey', 'grids', 'griffin', 'griffith', 'griffiths', 'grip', 'grips', 'grocers', 'gronkjaer', 'groom', 'gross', 'grossly', 'ground', 'grounded', 'groundless', 'grounds', 'groundwar', 'groundwater', 'group', 'groups', 'grow', 'grower', 'growers', 'growing', 'grows', 'growth', 'grumble', 'gst', 'guangdong', 'guantanamo', 'guarantee', 'guarantees', 'guard', 'guards', 'guatemala', 'guerillas', 'guerrilla', 'guerrillas', 'guerrouj', 'guest', 'guga', 'guide', 'guidelines', 'guides', 'guild', 'guilford', 'guilty', 'guitar', 'gulf', 'gulpilil', 'gum', 'gun', 'gundagai', 'gundaroo', 'gunfire', 'gungahlin', 'gunman', 'gunmen', 'gunned', 'gunnedah', 'gunners', 'gunning', 'guns', 'gunshot', 'gurkhas', 'gurpegi', 'guru', 'gusmao', 'gut', 'gutless', 'guts', 'gympie', 'gyrocopter', 'haas', 'habitats', 'hacker', 'hackers', 'hackett', 'hacktivists', 'hadji', 'haemorrhage', 'hagan', 'hagley', 'hail', 'hailed', 'hails', 'hailstorm', 'hair', 'hairdresser', 'half', 'hall', 'halls', 'halt', 'halted', 'halts', 'ham', 'hamackova', 'hamas', 'hamburg', 'hamill', 'hamilton', 'hammer', 'hammond', 'hampden', 'hamper', 'hampered', 'hampers', 'hampshire', 'hancock', 'hand', 'handbook', 'handed', 'handicap', 'handling', 'hands', 'handshake', 'handshakes', 'handsome', 'hang', 'hanging', 'hangs', 'hanoi', 'hans', 'hansen', 'hanson', 'hantuchova', 'happen', 'happy', 'harassed', 'harassing', 'harassment', 'harbour', 'harbourside', 'hard', 'hardenne', 'hardline', 'hardware', 'hardy', 'hargreaves', 'harmony', 'harness', 'harradine', 'harrington', 'harrison', 'harrop', 'harry', 'harsh', 'hart', 'harvest', 'harvested', 'harvester', 'harvesting', 'harvests', 'harvey', 'harwood', 'hastings', 'hat', 'hatch', 'hatchery', 'hated', 'haul', 'hauritz', 'haven', 'having', 'havoc', 'hawk', 'hawks', 'hawthorns', 'hay', 'hayden', 'hayek', 'hazard', 'hazards', 'haze', 'hazelton', 'head', 'headache', 'headaches', 'headed', 'headhunt', 'heading', 'headline', 'headmaster', 'heads', 'headstones', 'heal', 'healing', 'health', 'healthier', 'healthy', 'hear', 'heard', 'hearing', 'hearings', 'hears', 'heart', 'heartbreak', 'heartbreakers', 'hearts', 'heat', 'heated', 'heating', 'heats', 'heaven', 'heavy', 'heavyweight', 'hebron', 'hectares', 'hedc', 'hedland', 'heed', 'heeds', 'heel', 'heels', 'heftier', 'hefty', 'height', 'heightened', 'heightens', 'heights', 'held', 'helens', 'helguera', 'helicopter', 'helicopters', 'hell', 'helmets', 'help', 'helped', 'helping', 'helps', 'hemsley', 'henin', 'henman', 'henry', 'herbert', 'heritage', 'hermakono', 'hernia', 'hero', 'heroes', 'heroin', 'hervey', 'hes', 'hesitant', 'het', 'hewitt', 'hi', 'hibs', 'hicks', 'hidden', 'hidding', 'hiddings', 'hide', 'hideouts', 'hiding', 'hidings', 'high', 'higher', 'highest', 'highfields', 'highlanders', 'highlight', 'highlighted', 'highlights', 'highly', 'highway', 'higlights', 'hih', 'hijack', 'hijacked', 'hijacker', 'hijackers', 'hijacking', 'hijacks', 'hike', 'hiker', 'hikers', 'hikes', 'hill', 'hillary', 'hillgrove', 'hills', 'hindered', 'hindering', 'hinders', 'hindrance', 'hindu', 'hindus', 'hines', 'hinklers', 'hint', 'hinterland', 'hints', 'hinze', 'hip', 'hire', 'hires', 'hiring', 'historic', 'historical', 'history', 'hit', 'hitchhike', 'hits', 'hitting', 'hiv', 'hk', 'hoax', 'hobart', 'hobbit', 'hobble', 'hoch', 'hockey', 'hockeyroos', 'hoddle', 'hodge', 'hodgson', 'hogg', 'hohns', 'hold', 'holden', 'holders', 'holding', 'holds', 'hole', 'holes', 'holiday', 'holland', 'hollands', 'hollingworth', 'hollywood', 'holmes', 'holy', 'home', 'homecoming', 'homeland', 'homeless', 'homelessness', 'homemade', 'homes', 'homesickness', 'hometown', 'homicide', 'homicides', 'homosexual', 'honduras', 'hondurass', 'honey', 'hong', 'honour', 'honourable', 'honoured', 'honours', 'hoodlums', 'hoodoo', 'hook', 'hooker', 'hookes', 'hoon', 'hooper', 'hope', 'hopeful', 'hopes', 'hoping', 'horrifying', 'horror', 'horrors', 'horse', 'horses', 'hoses', 'hospice', 'hospital', 'hospitalised', 'hospitality', 'hospitals', 'host', 'hostage', 'hostages', 'hostel', 'hostile', 'hosting', 'hosts', 'hot', 'hotel', 'hoteliers', 'hotels', 'hotline', 'hotly', 'houllier', 'hound', 'hour', 'hours', 'house', 'households', 'houses', 'housing', 'howard', 'howardbali', 'howards', 'howe', 'howell', 'howie', 'hq', 'hrt', 'huegill', 'huge', 'hughes', 'hulls', 'human', 'humanitarian', 'humanity', 'humble', 'hume', 'humiliated', 'humphreys', 'hundreds', 'hungarian', 'hunger', 'hungerford', 'hungriest', 'hungry', 'hunt', 'hunter', 'hunters', 'hurdle', 'hurdles', 'hurricanes', 'hurst', 'hurt', 'hurting', 'hurts', 'husband', 'husbands', 'hussain', 'hussein', 'hut', 'hwy', 'hydro', 'hype', 'hypocrisy', 'hypocrite', 'hysteria', 'hysterical', 'hyypia', 'iaaf', 'iaea', 'icac', 'icc', 'ice', 'iceland', 'iceman', 'icon', 'icons', 'icpa', 'icrc', 'id', 'idea', 'identification', 'identified', 'identifies', 'identify', 'identifying', 'identities', 'identity', 'ies', 'igelstrom', 'ignore', 'ignored', 'ignores', 'ignoring', 'ii', 'ill', 'illawarra', 'illegal', 'illness', 'iluka', 'im', 'image', 'imagery', 'images', 'imc', 'immediate', 'immigrant', 'immigration', 'imminent', 'immolation', 'immoral', 'immunisation', 'immunisations', 'immunised', 'impact', 'impacted', 'impacting', 'imparja', 'impatience', 'impatient', 'impending', 'impersonates', 'implementation', 'implosion', 'import', 'importance', 'importation', 'imported', 'importing', 'imports', 'imposed', 'imposes', 'impossible', 'impound', 'impoverished', 'impressed', 'impression', 'imprisonment', 'improve', 'improved', 'improvement', 'improvements', 'improves', 'improving', 'inaction', 'inadequate', 'inaugural', 'inaugurated', 'inauguration', 'incat', 'incenses', 'incentive', 'incentives', 'incident', 'incidents', 'incite', 'inciting', 'include', 'inclusion', 'income', 'incomes', 'incoming', 'inconclusive', 'incorrect', 'increase', 'increased', 'increases', 'increasing', 'incursion', 'incursions', 'indecent', 'indemnity', 'independence', 'independent', 'independiente', 'index', 'india', 'indian', 'indians', 'indicates', 'indication', 'indicts', 'indies', 'indigenous', 'indon', 'indonesia', 'indonesian', 'indonesians', 'indonesias', 'indoor', 'indoors', 'inducted', 'indurain', 'industrial', 'industries', 'industry', 'indy', 'inefficiency', 'inevitable', 'infant', 'infantry', 'infants', 'infected', 'infection', 'inflammatory', 'inflict', 'influence', 'influx', 'info', 'information', 'infrastructure', 'ingram', 'ingratitude', 'inhibitions', 'inhumane', 'initiated', 'initiative', 'initiatives', 'inject', 'injecting', 'injection', 'injunction', 'injure', 'injured', 'injures', 'injuries', 'injury', 'inland', 'inmate', 'inmates', 'inn', 'inner', 'innisfail', 'innocence', 'input', 'inquest', 'inquiries', 'inquiry', 'ins', 'insects', 'inside', 'insider', 'insist', 'insists', 'inspect', 'inspections', 'inspector', 'inspectors', 'inspires', 'inspiring', 'installation', 'installed', 'installing', 'instalment', 'instead', 'institute', 'insult', 'insults', 'insurance', 'insured', 'insurers', 'intake', 'integrity', 'intelligence', 'intense', 'intensifies', 'intensity', 'intentions', 'inter', 'interconnector', 'interested', 'interim', 'internal', 'internally', 'international', 'internationals', 'internet', 'interrogate', 'interrupted', 'inters', 'intersection', 'interstate', 'intervene', 'intervenes', 'interview', 'intesifies', 'intimidate', 'intimidated', 'introduce', 'introduced', 'introduces', 'introduction', 'invade', 'invaders', 'invalidate', 'invaluable', 'invasion', 'inventory', 'invest', 'investigate', 'investigated', 'investigates', 'investigating', 'investigation', 'investigations', 'investigator', 'investigators', 'investment', 'investor', 'investors', 'invests', 'invitation', 'invitational', 'invite', 'invited', 'invites', 'invokes', 'involved', 'involvement', 'ioc', 'iowa', 'ipswich', 'ir', 'ira', 'iran', 'iranian', 'iranians', 'irans', 'iraq', 'iraqi', 'iraqis', 'iraqs', 'irb', 'irc', 'ire', 'ireland', 'irelands', 'irish', 'iron', 'ironman', 'irradiate', 'irreplaceable', 'irresponsible', 'irreversible', 'irrigation', 'irrigators', 'irwin', 'irymple', 'isa', 'isisford', 'islam', 'islamic', 'islamist', 'islamists', 'island', 'islander', 'islanders', 'isnt', 'isolated', 'isolates', 'israel', 'israeli', 'israelis', 'israels', 'issue', 'issued', 'issues', 'italian', 'italians', 'italy', 'itc', 'itching', 'items', 'itinerant', 'itinerants', 'itn', 'ivanisevic', 'ivanisevics', 'ivanov', 'ivf', 'ivory', 'jabiru', 'jacaranda', 'jackal', 'jackaroo', 'jackeroo', 'jacket', 'jacking', 'jackson', 'jacksons', 'jagera', 'jags', 'jaguar', 'jail', 'jailbreak', 'jailed', 'jailhouse', 'jailing', 'jails', 'jakarta', 'jamaica', 'james', 'january', 'janzen', 'japan', 'japanese', 'japans', 'jars', 'jaunt', 'jayasuriya', 'jayasuriyas', 'jayawardene', 'jazeera', 'jb', 'jeddah', 'jeered', 'jellyfish', 'jenny', 'jeopardise', 'jeopardised', 'jeremies', 'jerusalem', 'jessica', 'jet', 'jets', 'jetty', 'jewellers', 'jewish', 'jewist', 'jibes', 'jihad', 'jim', 'jimmy', 'jinx', 'jiranek', 'jitters', 'jittery', 'jnr', 'job', 'jobless', 'joblink', 'jobs', 'jockey', 'jockeying', 'joeys', 'joh', 'john', 'johnes', 'johns', 'johnson', 'join', 'joins', 'joint', 'jokes', 'jolts', 'jones', 'joose', 'jordan', 'jordans', 'journal', 'journalist', 'journalists', 'journey', 'journo', 'journos', 'joust', 'jubilant', 'jude', 'judge', 'judges', 'judicial', 'judiciary', 'july', 'jumbo', 'jump', 'jumper', 'jumpers', 'jumps', 'june', 'junior', 'juniors', 'junk', 'junkets', 'junta', 'jupiters', 'juror', 'jury', 'just', 'justice', 'justified', 'juve', 'juvenile', 'juveniles', 'juventus', 'kabul', 'kafelnikov', 'kahn', 'kaiserslautern', 'kalgoorlie', 'kallis', 'kamal', 'kane', 'kangaroos', 'kanimbla', 'karachi', 'karara', 'karate', 'karbala', 'karratha', 'kart', 'kashmir', 'kasper', 'katherine', 'kato', 'kayaker', 'kayakers', 'kazakh', 'keane', 'keating', 'keegan', 'keeling', 'keelty', 'keen', 'keeper', 'keeping', 'keeps', 'kefu', 'keira', 'keller', 'kelly', 'kembla', 'kemp', 'ken', 'kendrick', 'kennedy', 'keno', 'kent', 'kenya', 'kenyan', 'kenyans', 'kenyas', 'kenyon', 'keowns', 'keppel', 'kept', 'kerbala', 'kessler', 'kew', 'kewell', 'key', 'khan', 'khannouchi', 'khatami', 'khmer', 'kick', 'kicks', 'kidman', 'kidnap', 'kidnapper', 'kidnapping', 'kidney', 'kids', 'kifl', 'kilburn', 'kilda', 'kill', 'killed', 'killer', 'killers', 'killing', 'killings', 'kills', 'kily', 'kimberley', 'kindred', 'king', 'kingfish', 'kingfisher', 'kings', 'kingstream', 'kingz', 'kirilenko', 'kirkuk', 'kirsten', 'kirwan', 'kit', 'kits', 'kitty', 'kivilev', 'kivilevs', 'kiwi', 'kiwis', 'klim', 'klims', 'klitschko', 'klusener', 'km', 'kms', 'knee', 'knife', 'knights', 'knives', 'knock', 'knocked', 'knocking', 'knopfler', 'know', 'knowles', 'known', 'koala', 'koalas', 'koen', 'kong', 'kookaburras', 'korea', 'korean', 'koreans', 'koreas', 'kosciuszko', 'kosmina', 'kournikova', 'kph', 'krakow', 'kravitz', 'krige', 'kroger', 'kucera', 'kuerten', 'kununurra', 'kuranyi', 'kurd', 'kurdish', 'kurds', 'kuwait', 'kuwaiti', 'kwan', 'kyi', 'kylie', 'kyoto', 'kyrgyzstan', 'la', 'label', 'labels', 'labor', 'laboratories', 'labors', 'labour', 'lack', 'laden', 'ladens', 'ladies', 'lag', 'lagoon', 'lagoons', 'lags', 'laid', 'lake', 'lakers', 'lakes', 'lambie', 'laments', 'land', 'landfill', 'landholder', 'landholders', 'landing', 'landmine', 'landmines', 'lands', 'landslide', 'langer', 'langmack', 'language', 'lanka', 'lankan', 'lankans', 'lara', 'large', 'larger', 'larkham', 'lash', 'lashes', 'lashings', 'lasting', 'late', 'later', 'latest', 'latham', 'latif', 'latrobe', 'laughing', 'launceston', 'launch', 'launched', 'launches', 'laundering', 'laureates', 'laureus', 'lavender', 'laverton', 'law', 'lawful', 'lawnmowers', 'laws', 'lawyer', 'lawyers', 'lax', 'lay', 'lazaridis', 'lazio', 'lazios', 'lead', 'leader', 'leaderboard', 'leaders', 'leadership', 'leading', 'leads', 'league', 'leagues', 'leak', 'leaks', 'leaney', 'leap', 'learn', 'learner', 'learning', 'learns', 'lease', 'leases', 'leave', 'leaves', 'leaving', 'lebouc', 'lecturer', 'led', 'lee', 'leeds', 'lees', 'left', 'leg', 'legal', 'legality', 'legend', 'legionella', 'legislation', 'legislative', 'legitimacy', 'lehmann', 'leicester', 'leisel', 'leisure', 'lemon', 'lend', 'length', 'leniency', 'lennox', 'lens', 'lent', 'lenton', 'leonard', 'leone', 'leopards', 'lesbian', 'lessen', 'lester', 'let', 'lethal', 'letter', 'letters', 'letting', 'levee', 'level', 'levels', 'leven', 'leverkusen', 'levy', 'lewdness', 'lewis', 'lewiss', 'lga', 'liability', 'liable', 'liaison', 'lib', 'liberal', 'liberals', 'liberation', 'libere', 'libertad', 'libertadores', 'libertarians', 'liberty', 'library', 'libs', 'licence', 'licences', 'licensed', 'licensees', 'licenses', 'licking', 'lickliter', 'licks', 'lid', 'lies', 'life', 'lifeline', 'lifesavers', 'lifesaving', 'lifestyle', 'lifetime', 'lift', 'lifted', 'lifting', 'lifts', 'light', 'lighters', 'lighting', 'lightning', 'lights', 'lihir', 'like', 'likely', 'likud', 'lille', 'lim', 'lima', 'limbo', 'limelight', 'limestone', 'limit', 'limitations', 'limited', 'limiting', 'limits', 'limos', 'lincoln', 'line', 'liner', 'lines', 'lingers', 'link', 'linked', 'links', 'lion', 'lions', 'lipped', 'lippi', 'liquid', 'liquidators', 'liquor', 'liquorland', 'lira', 'lismore', 'list', 'listed', 'listen', 'listing', 'lists', 'literacy', 'lithgow', 'litre', 'little', 'live', 'liverpool', 'lives', 'livestock', 'llewellyn', 'loading', 'loan', 'loar', 'lobbies', 'lobby', 'lobbying', 'lobs', 'lobster', 'local', 'locally', 'locals', 'locate', 'located', 'lock', 'locked', 'lockett', 'lockout', 'locks', 'lockyer', 'locum', 'locust', 'lodge', 'lodges', 'log', 'loggers', 'logging', 'logic', 'logo', 'lokomotiv', 'lolly', 'lomu', 'lonard', 'london', 'long', 'longer', 'longest', 'longford', 'longreach', 'look', 'looking', 'lookout', 'looks', 'looming', 'looms', 'loose', 'looting', 'lord', 'lorients', 'los', 'lose', 'loses', 'losing', 'loss', 'losses', 'lost', 'lot', 'lots', 'lotto', 'loud', 'love', 'lovenkrands', 'lovers', 'loves', 'low', 'lower', 'lowered', 'lowers', 'lowest', 'loxton', 'loyalists', 'loyalty', 'lpga', 'luck', 'lucky', 'luczak', 'ludicrous', 'lung', 'lure', 'lures', 'lurks', 'luxury', 'lychee', 'lying', 'lynch', 'lyon', 'lyrebird', 'm5', 'macarthur', 'macarthurs', 'macedonia', 'macfarlane', 'machete', 'machine', 'machinery', 'mackay', 'mackenroth', 'mackerel', 'macquarie', 'madagascar', 'madeira', 'madonna', 'madrid', 'magazine', 'magic', 'magical', 'magician', 'magistrate', 'magnesium', 'magnets', 'magnificent', 'magpies', 'mahathir', 'maiden', 'maier', 'mail', 'mails', 'main', 'maine', 'mainland', 'maintain', 'maintains', 'maintenance', 'maitland', 'major', 'majority', 'majors', 'make', 'maker', 'makers', 'makes', 'making', 'malaga', 'malaise', 'malaria', 'malaysia', 'malaysian', 'malaysias', 'male', 'malice', 'mall', 'mallee', 'maller', 'mallon', 'mallorca', 'malpas', 'maltese', 'mammal', 'man', 'management', 'manager', 'managers', 'managing', 'mandate', 'mandatory', 'mandela', 'manger', 'mango', 'manhunt', 'mania', 'manly', 'manning', 'mans', 'manslaughter', 'manuals', 'manufacturer', 'manufacturers', 'manufacturing', 'manus', 'map', 'maps', 'maradona', 'maralinga', 'marangaroo', 'marathon', 'marathons', 'march', 'marches', 'mardi', 'mareeba', 'marginal', 'marginals', 'maria', 'marillier', 'marina', 'marine', 'marines', 'mario', 'maritime', 'mark', 'market', 'marketing', 'markets', 'marks', 'maroney', 'maroochy', 'maroochydore', 'marriage', 'marries', 'marron', 'mars', 'marseille', 'marsh', 'marshall', 'martha', 'martin', 'martina', 'martinez', 'martins', 'martyn', 'martyrdom', 'martyrs', 'marxist', 'maryborough', 'marys', 'mask', 'masks', 'maso', 'mason', 'mass', 'massa', 'massacre', 'masses', 'massive', 'massu', 'mast', 'master', 'mastermind', 'masters', 'masur', 'match', 'matches', 'matchplay', 'mater', 'matera', 'material', 'maternity', 'mates', 'matilda', 'matildas', 'matta', 'matters', 'matthews', 'mauls', 'mauresmo', 'mayans', 'mayor', 'mayoral', 'mayors', 'mbeki', 'mcarthur', 'mcbride', 'mccains', 'mccarthy', 'mccartney', 'mccullum', 'mcdonalds', 'mcenroe', 'mcewen', 'mcg', 'mcgauran', 'mcgeechan', 'mcgrady', 'mcgrane', 'mcgrath', 'mcguire', 'mcisaac', 'mckay', 'mckinnon', 'mclaren', 'mcmillan', 'mcrae', 'mean', 'meander', 'meaning', 'means', 'meant', 'measures', 'meat', 'meatworkers', 'meatworks', 'medal', 'medallist', 'medals', 'medellin', 'media', 'medias', 'mediate', 'mediation', 'medical', 'medicare', 'medicine', 'medicos', 'medina', 'medium', 'meet', 'meeting', 'meetings', 'meets', 'megawati', 'mehrtens', 'melb', 'melbourne', 'melting', 'member', 'members', 'membership', 'memo', 'memorabilia', 'memorable', 'memorial', 'memphis', 'men', 'menace', 'menangle', 'mend', 'menindee', 'meningitis', 'meningococcal', 'menopausal', 'mens', 'mental', 'mentally', 'mention', 'mentor', 'mentoring', 'menu', 'merceron', 'mercury', 'mercy', 'mere', 'merge', 'merger', 'merges', 'merimbula', 'merit', 'message', 'met', 'metal', 'metals', 'methane', 'methanex', 'metres', 'metro', 'metway', 'meunier', 'mexican', 'mexicans', 'mexico', 'meyers', 'mgladbach', 'miami', 'mice', 'michael', 'michalak', 'mickelson', 'micromanaging', 'micronesia', 'microscope', 'microwaves', 'mid', 'middle', 'mideast', 'midfielder', 'mido', 'midwives', 'migrating', 'migration', 'milan', 'milans', 'mildura', 'mile', 'miles', 'militant', 'militants', 'military', 'militia', 'militias', 'milk', 'milkman', 'millar', 'million', 'millions', 'mills', 'milosevic', 'milosevics', 'milwall', 'mim', 'minardi', 'minardis', 'mind', 'mindedness', 'miner', 'mineral', 'minerals', 'miners', 'mines', 'minibus', 'minimal', 'minimised', 'minimium', 'minimum', 'mining', 'minister', 'ministerial', 'ministers', 'ministries', 'ministry', 'minnows', 'minogues', 'minor', 'minute', 'minutes', 'miracle', 'miracles', 'mirani', 'mired', 'mirnyi', 'mirror', 'misconduct', 'misery', 'misfire', 'misfiring', 'mishap', 'misleading', 'mismanagement', 'misrepresented', 'miss', 'missed', 'misses', 'missile', 'missiles', 'missing', 'mission', 'missions', 'mistake', 'mistakes', 'mistreated', 'mistreating', 'misunderstood', 'misusing', 'mitchell', 'mitsubishi', 'mix', 'mixed', 'mla', 'mm', 'moab', 'mob', 'mobile', 'moby', 'mock', 'model', 'modena', 'moderate', 'modest', 'modified', 'modifies', 'modifying', 'moenchengladbach', 'molecule', 'molesting', 'molik', 'molotov', 'mols', 'moment', 'momentum', 'monaco', 'monarch', 'monaro', 'monash', 'monday', 'monet', 'money', 'monitor', 'monitored', 'monitoring', 'monitors', 'monkey', 'monopoly', 'monster', 'montella', 'montevideo', 'montgomery', 'month', 'monthly', 'months', 'montoya', 'montys', 'monument', 'moo', 'mooching', 'mood', 'moon', 'mooney', 'moora', 'mop', 'mopping', 'moral', 'morale', 'moran', 'moratorium', 'morgue', 'mori', 'morning', 'mornington', 'moroccan', 'moroccans', 'morris', 'morrison', 'mortage', 'mortar', 'mortars', 'mortgage', 'mortlock', 'mortlocks', 'moseley', 'mosely', 'moses', 'mosley', 'mosque', 'mosul', 'motel', 'mother', 'motherwell', 'motion', 'motivates', 'motlop', 'motocross', 'motor', 'motorbike', 'motorcross', 'motorcycle', 'motorcyclist', 'motorist', 'motorists', 'motors', 'mount', 'mountains', 'mounting', 'mounts', 'mourn', 'mourners', 'mourning', 'mourns', 'moussaoui', 'moved', 'movement', 'movements', 'mover', 'moves', 'moya', 'mozambique', 'mozzie', 'mozzies', 'mp', 'mps', 'mt', 'mubarak', 'muck', 'mud', 'mudslide', 'mudslides', 'mufti', 'mugabe', 'mulder', 'muller', 'mulling', 'multicultural', 'multinational', 'multiple', 'mum', 'mummification', 'mundine', 'munich', 'mural', 'murali', 'murcia', 'murder', 'murdered', 'murderer', 'murdering', 'murders', 'murdoch', 'murray', 'murraylands', 'muscat', 'museeuw', 'museum', 'music', 'musicals', 'muslim', 'muslims', 'mustard', 'muswellbrook', 'muted', 'mutton', 'muzzling', 'mv', 'myer', 'myskina', 'mysterious', 'mystery', 'nab', 'nabbed', 'nabs', 'nacional', 'nagoya', 'nairn', 'nairobi', 'naive', 'najaf', 'naked', 'nalbandian', 'nam', 'nambour', 'named', 'names', 'namibia', 'namibian', 'naming', 'namoi', 'nantes', 'naples', 'nardell', 'narrow', 'narrows', 'nasa', 'nascar', 'nasiriya', 'nasiriyah', 'nasty', 'natasha', 'nataus', 'nation', 'national', 'nationals', 'nations', 'native', 'nato', 'natrass', 'nats', 'nattas', 'nattrass', 'natural', 'nature', 'naturopath', 'natwa', 'nauru', 'naurus', 'naval', 'navy', 'nazon', 'nbc', 'nbl', 'nbls', 'nca', 'neanderthals', 'near', 'nearer', 'nearing', 'nearly', 'nears', 'necessary', 'necessity', 'neck', 'ned', 'nedved', 'need', 'needed', 'needles', 'needs', 'negative', 'neglect', 'neglecting', 'negotiate', 'negotiating', 'negotiation', 'negotiations', 'nehra', 'neighbour', 'neighbourhood', 'neighbours', 'nelly', 'nephew', 'nerves', 'nervous', 'nestle', 'net', 'netanya', 'netanyahu', 'netball', 'netballer', 'netballers', 'nets', 'network', 'networks', 'new', 'newborn', 'newcastle', 'newcastles', 'newcomer', 'newcomers', 'newell', 'newly', 'news', 'newsagency', 'newsman', 'newspaper', 'newspapers', 'newspoll', 'newton', 'nfl', 'nib', 'nicaragua', 'nice', 'nickel', 'nicklaus', 'nieminen', 'nigeria', 'nigerian', 'night', 'nightclub', 'nightspot', 'nilsson', 'nimbin', 'nimmitabel', 'nino', 'ninth', 'nip', 'nitschke', 'nkorea', 'nobel', 'nod', 'noffke', 'noffkes', 'noise', 'nominate', 'nominated', 'nominates', 'nominating', 'nomination', 'nominations', 'non', 'noosa', 'norah', 'nordic', 'norman', 'north', 'northam', 'northampton', 'northbridge', 'northcliffe', 'northerly', 'northerlys', 'northern', 'norway', 'noses', 'notch', 'note', 'notes', 'notice', 'notified', 'novak', 'november', 'nowra', 'npws', 'nrl', 'nrma', 'nsl', 'nsw', 'nt', 'nth', 'ntini', 'nuclear', 'nude', 'nudgee', 'nuke', 'nukes', 'number', 'numbers', 'nurse', 'nurseries', 'nurses', 'nursing', 'ny', 'nylex', 'nyse', 'nz', 'oakey', 'oasis', 'obeid', 'obesity', 'objection', 'objectors', 'obscene', 'observation', 'observers', 'obstacle', 'obstetricians', 'obstruct', 'occupy', 'occupying', 'occy', 'ocean', 'oceania', 'octopus', 'odds', 'odonnell', 'odriscoll', 'oecd', 'ofarrell', 'offence', 'offences', 'offender', 'offenders', 'offends', 'offensive', 'offer', 'offered', 'offering', 'offers', 'office', 'officer', 'officers', 'offices', 'official', 'officials', 'offs', 'offset', 'offshore', 'ogara', 'ogilvie', 'ogrady', 'oh', 'oil', 'oilwell', 'ok', 'okay', 'okays', 'old', 'older', 'oldest', 'oldfield', 'oleary', 'olive', 'oliver', 'olonga', 'olongas', 'olsson', 'olympian', 'olympic', 'olympics', 'omagh', 'omalley', 'ombudsman', 'ombudsmans', 'ominami', 'ominous', 'omission', 'omodei', 'oncologists', 'oncology', 'oneill', 'ones', 'onesteel', 'onetel', 'ongoing', 'online', 'onslaught', 'ontario', 'onthis', 'op', 'opal', 'opals', 'opec', 'open', 'opened', 'opener', 'opening', 'opens', 'opera', 'operate', 'operating', 'operation', 'operations', 'operator', 'operators', 'opinion', 'opinions', 'opp', 'oppn', 'oppns', 'opponents', 'opportunities', 'oppose', 'opposed', 'opposes', 'opposing', 'opposition', 'opps', 'oprah', 'ops', 'opt', 'optimistic', 'option', 'options', 'opts', 'orange', 'orchard', 'orchestra', 'orchid', 'ordeal', 'order', 'ordered', 'ordering', 'orderlies', 'orders', 'ords', 'ore', 'orford', 'organ', 'organic', 'organisation', 'organised', 'organisers', 'orica', 'orientation', 'origin', 'origins', 'ormiston', 'orphans', 'osaka', 'osama', 'oscar', 'oscars', 'osullivan', 'otago', 'ottens', 'ottke', 'otways', 'oust', 'ousted', 'ousts', 'outback', 'outbreak', 'outbreaks', 'outburst', 'outbursts', 'outclass', 'outcome', 'outdated', 'outdoor', 'outdoors', 'outer', 'outfall', 'outgoing', 'outgun', 'outlasts', 'outlawing', 'outlaws', 'outline', 'outlines', 'outlive', 'outlook', 'outnumber', 'outrages', 'outright', 'outside', 'outskirts', 'outsourcing', 'outspoken', 'outstation', 'overall', 'overambitious', 'overboard', 'overbooking', 'overcome', 'overcomes', 'overconfidence', 'overflights', 'overhaul', 'overhead', 'overlooked', 'overnight', 'overpower', 'overs', 'overseas', 'oversee', 'overshadow', 'overspending', 'overtime', 'overturn', 'overturns', 'overwhelms', 'overworked', 'owen', 'owner', 'owners', 'ownership', 'oxfam', 'oxford', 'oxygen', 'oysters', 'oz', 'pace', 'pacemakers', 'pacemen', 'pacesetters', 'pacific', 'pack', 'package', 'packages', 'packed', 'packer', 'packers', 'packing', 'packs', 'pact', 'paddleboat', 'paedophile', 'paedophilia', 'pagan', 'paid', 'pain', 'paint', 'painting', 'paintings', 'pair', 'pak', 'pakistan', 'pakistani', 'pakistanis', 'palace', 'palaces', 'palaszczuk', 'palestinian', 'palestinians', 'palm', 'palmer', 'palmerston', 'pambula', 'pamphlet', 'pampling', 'pan', 'pandas', 'panel', 'panels', 'panic', 'panne', 'panthers', 'pants', 'paper', 'papers', 'papua', 'papuans', 'parachute', 'parachuting', 'parade', 'parading', 'paradise', 'paradorn', 'paralysed', 'parameters', 'parent', 'parental', 'parents', 'paris', 'parishes', 'parity', 'park', 'parkes', 'parking', 'parkinson', 'parkinsons', 'parks', 'parliament', 'parliamentarians', 'parliamentary', 'parma', 'paroo', 'parramatta', 'parry', 'parsons', 'partial', 'partially', 'participation', 'partick', 'parties', 'partner', 'partnerships', 'party', 'pasminco', 'pass', 'passed', 'passenger', 'passengers', 'passes', 'passing', 'passion', 'passport', 'past', 'pastor', 'pastoral', 'pastoralists', 'patch', 'paterson', 'path', 'pathetic', 'pathway', 'patience', 'patient', 'patients', 'paton', 'patriot', 'patriotism', 'patriots', 'patrol', 'patrols', 'pats', 'patsy', 'pattern', 'patterson', 'paul', 'paulista', 'pause', 'pawns', 'pay', 'payment', 'payments', 'payout', 'payouts', 'pays', 'paysandu', 'pbl', 'pc', 'pcyc', 'peace', 'peaceful', 'peacefully', 'peacekeeping', 'peaking', 'peanut', 'pearson', 'pedestrian', 'pedy', 'peel', 'pegging', 'pegs', 'pelican', 'pellets', 'pelt', 'pena', 'penalised', 'penalties', 'penalty', 'penarol', 'pending', 'penetrate', 'penguins', 'peninsula', 'penny', 'penrith', 'pension', 'pentagon', 'people', 'pepper', 'percent', 'percentage', 'perfect', 'perform', 'performance', 'performing', 'performs', 'perilya', 'perkins', 'perks', 'perle', 'permanent', 'permit', 'permits', 'perren', 'perrie', 'person', 'personal', 'personality', 'perth', 'perths', 'peru', 'peruvian', 'pest', 'pet', 'petegem', 'peter', 'petition', 'petitions', 'petria', 'petro', 'petrol', 'petroulias', 'pets', 'petty', 'pga', 'phantom', 'pharaohs', 'pharmacy', 'phase', 'phelps', 'phials', 'philip', 'philippine', 'philippines', 'philippoussis', 'phillip', 'philp', 'phoenix', 'phone', 'phoned', 'phones', 'photo', 'photographer', 'photography', 'pianist', 'pick', 'picked', 'picking', 'picnic', 'pie', 'pienaar', 'pierce', 'piero', 'pies', 'pig', 'pigeon', 'piggery', 'piggins', 'pigs', 'pilbara', 'pilchard', 'pile', 'pileup', 'pilgrimage', 'pill', 'pillage', 'pilot', 'pilots', 'pin', 'pinch', 'pine', 'pink', 'pinned', 'pinpoint', 'pioneers', 'pip', 'pipeline', 'piper', 'pipers', 'pipes', 'pips', 'piracy', 'pires', 'pirsa', 'pistol', 'pit', 'pitcairn', 'pitch', 'pitches', 'pittman', 'pizza', 'place', 'placed', 'places', 'placing', 'placings', 'plague', 'plagued', 'plagues', 'plains', 'plan', 'plane', 'planes', 'planned', 'planners', 'planning', 'plans', 'plant', 'plantation', 'plantations', 'planted', 'planting', 'plantings', 'plants', 'plastic', 'plate', 'platform', 'play', 'player', 'players', 'playing', 'playng', 'playoff', 'plays', 'playwright', 'plaza', 'plea', 'plead', 'pleads', 'pleased', 'pleasing', 'plebiscite', 'pledge', 'pledges', 'plot', 'plots', 'plucky', 'plug', 'plugs', 'plummets', 'plunders', 'plunge', 'plunges', 'plymouth', 'pm', 'pms', 'pneumonia', 'png', 'pngs', 'poachers', 'poaching', 'pocket', 'pockets', 'podium', 'poets', 'point', 'pointless', 'points', 'poised', 'poisoning', 'poisons', 'pokie', 'pokies', 'polak', 'poland', 'polanski', 'pole', 'police', 'policeman', 'policemans', 'policemen', 'policewomans', 'policewomen', 'policies', 'policy', 'polish', 'political', 'politician', 'politicians', 'politics', 'poll', 'polling', 'pollock', 'polls', 'pollute', 'polluters', 'pollution', 'pompey', 'ponder', 'ponders', 'ponies', 'pontin', 'ponting', 'pontings', 'pony', 'pooch', 'pooches', 'pool', 'pools', 'poop', 'poor', 'poorest', 'poorly', 'pop', 'pope', 'poppies', 'poppy', 'popular', 'popularity', 'population', 'porn', 'port', 'portfolio', 'portland', 'portman', 'portrait', 'ports', 'portsea', 'portsmouth', 'portsmouths', 'portugal', 'pose', 'poses', 'posing', 'position', 'positions', 'positive', 'possessing', 'possibility', 'possible', 'post', 'postal', 'posterior', 'posthumously', 'posting', 'postpone', 'postponed', 'postponement', 'posts', 'pot', 'potato', 'potent', 'potential', 'potentially', 'potter', 'pottharst', 'poulsen', 'poultry', 'pound', 'pounded', 'pounds', 'pours', 'poverty', 'pow', 'powder', 'powell', 'powells', 'power', 'powered', 'powerlines', 'powers', 'pows', 'pozzato', 'practice', 'practices', 'practise', 'practising', 'pragmatism', 'praise', 'praised', 'praises', 'praising', 'prank', 'pratt', 'prawn', 'pray', 'prayer', 'prayers', 'praying', 'pre', 'predetermine', 'predict', 'predicted', 'predicting', 'prediction', 'predictions', 'predicts', 'preference', 'preferences', 'preferred', 'pregnancy', 'pregnant', 'prejudice', 'premeditated', 'premier', 'premieres', 'premiership', 'premium', 'premiums', 'preparation', 'preparations', 'prepare', 'prepared', 'prepares', 'preparing', 'preseason', 'preselection', 'presence', 'presentation', 'presents', 'preservation', 'preserve', 'presidency', 'president', 'presidential', 'press', 'pressure', 'pressured', 'pressures', 'prestige', 'prestigious', 'pretexts', 'pretzels', 'prevail', 'prevent', 'prevented', 'prevention', 'prevents', 'previews', 'previous', 'price', 'prices', 'pricing', 'priest', 'priests', 'primary', 'prime', 'primed', 'primus', 'prince', 'principal', 'principals', 'principle', 'print', 'priorities', 'priority', 'prisioner', 'prison', 'prisoner', 'prisoners', 'prisons', 'pritzker', 'privacy', 'private', 'privatisation', 'privileges', 'prix', 'prize', 'prizes', 'probably', 'probe', 'probes', 'probing', 'problem', 'problems', 'proceeds', 'process', 'processing', 'processor', 'proclaims', 'produce', 'producers', 'production', 'productivity', 'professional', 'professionals', 'professor', 'profile', 'profit', 'profiteering', 'profits', 'prognosis', 'program', 'programs', 'progress', 'progressing', 'progs', 'prohibited', 'project', 'projects', 'prolong', 'promina', 'promise', 'promises', 'promising', 'promote', 'promotes', 'promoting', 'promotion', 'prompt', 'prompted', 'prompts', 'prone', 'proof', 'prop', 'propaganda', 'property', 'proposal', 'proposals', 'propose', 'proposed', 'proposes', 'pros', 'prosecution', 'prosecutor', 'prosecutors', 'prospect', 'prospectors', 'prospects', 'prosperity', 'prostitutes', 'prostitution', 'proteas', 'protect', 'protected', 'protecting', 'protection', 'protective', 'protest', 'protester', 'protesters', 'protesting', 'protests', 'protocol', 'protocols', 'proud', 'prove', 'proves', 'provide', 'providers', 'providing', 'province', 'provocation', 'psg', 'psv', 'psych', 'psychiatrist', 'psychologist', 'pt', 'pub', 'public', 'publicist', 'publicity', 'publicly', 'publics', 'publisher', 'puckapunyal', 'pudding', 'pull', 'pulling', 'pulls', 'pummels', 'pump', 'pumping', 'pumpkin', 'punch', 'punctures', 'punished', 'punishes', 'punishment', 'punters', 'puppy', 'purchase', 'pursue', 'pursuit', 'push', 'pushed', 'pushes', 'putin', 'puts', 'putt', 'putting', 'pybus', 'pylons', 'pyongyang', 'qaeda', 'qantas', 'qantaslink', 'qantass', 'qas', 'qasr', 'qatar', 'qbuild', 'qfvg', 'qld', 'qlds', 'qr', 'qtu', 'quad', 'quagmire', 'quail', 'quake', 'qualified', 'qualifier', 'qualifiers', 'qualifies', 'qualify', 'qualifying', 'quality', 'quarantine', 'quarantined', 'quarantines', 'quarter', 'quarters', 'quashed', 'quashes', 'queen', 'queensland', 'queenslander', 'queenslanders', 'queenslands', 'quentin', 'queries', 'quest', 'question', 'questionable', 'questioned', 'questioning', 'questions', 'quick', 'quicker', 'quickfire', 'quickly', 'quiet', 'quieter', 'quilpie', 'quinn', 'quit', 'quits', 'quo', 'quoll', 'quolls', 'quota', 'raa', 'raaf', 'rabbit', 'rabbitohs', 'rabindra', 'race', 'races', 'racial', 'racing', 'racings', 'racism', 'racist', 'racket', 'racq', 'ract', 'racv', 'radar', 'radcliffe', 'radcliffes', 'radiation', 'radical', 'radio', 'radioactive', 'raffles', 'rage', 'rages', 'raging', 'raid', 'raiders', 'raids', 'raikkonen', 'rail', 'railway', 'rain', 'rainfall', 'rainforests', 'raining', 'rains', 'raise', 'raised', 'raises', 'raising', 'rakes', 'ralf', 'rallies', 'rally', 'ram', 'rampage', 'rampant', 'rams', 'ramsay', 'ranching', 'randells', 'random', 'range', 'rangers', 'rank', 'ranked', 'rankings', 'ranks', 'rann', 'rape', 'raped', 'rapes', 'rapid', 'rapist', 'rapists', 'rapper', 'rare', 'raring', 'rat', 'rate', 'ratepayers', 'rates', 'ratfied', 'ratification', 'ratify', 'rating', 'ratings', 'rationalise', 'rationing', 'rations', 'rattles', 'ravage', 'ravaged', 'ravages', 'ravanelli', 'ravensthorpe', 'raw', 'ray', 'raymond', 'rayo', 'rays', 'razorbacks', 'rbt', 'rd', 'rdaa', 'reach', 'reached', 'reaches', 'reaching', 'reaction', 'reactivation', 'reactor', 'readiness', 'reading', 'ready', 'reaffirms', 'real', 'reality', 'reals', 'reang', 'reap', 'reappear', 'reappointed', 'rear', 'reason', 'reasons', 'rebalance', 'rebate', 'rebel', 'rebels', 'rebound', 'rebuild', 'rebuilding', 'rebuilds', 'rebuilt', 'recall', 'recalled', 'recapture', 'receding', 'receive', 'received', 'receiver', 'receives', 'receiving', 'recent', 'reception', 'recession', 'recherche', 'reckless', 'reclaim', 'reclaims', 'recoba', 'recognise', 'recognised', 'recognises', 'recommendation', 'recommendations', 'recommended', 'recommends', 'reconciliation', 'reconsider', 'reconsidering', 'reconsiders', 'reconstruction', 'record', 'recorder', 'records', 'recount', 'recover', 'recovering', 'recovers', 'recovery', 'recreation', 'recreational', 'recreativo', 'recruit', 'recruited', 'recruiting', 'recruitment', 'recruits', 'recurrence', 'recurrent', 'recycling', 'red', 'redbacks', 'redeployed', 'redeveloped', 'redevelopment', 'redirected', 'reds', 'reduce', 'reduced', 'reduces', 'reducing', 'reduction', 'reductions', 'redundancies', 'redundancy', 'reed', 'reef', 'reefs', 'referee', 'referees', 'referendum', 'referred', 'refinery', 'refinerys', 'refloat', 'reform', 'reformists', 'reforms', 'refshauge', 'refugee', 'refugees', 'refusal', 'refusals', 'refuse', 'refused', 'refuses', 'refusing', 'regain', 'regains', 'regard', 'regattas', 'regent', 'regime', 'region', 'regional', 'regions', 'register', 'registered', 'registration', 'rego', 'regret', 'regrets', 'regular', 'regulated', 'regulations', 'regulator', 'rehab', 'rehabilitation', 'reid', 'reign', 'rein', 'reinforcements', 'reinstated', 'reintroduces', 'reinvent', 'reiq', 'reject', 'rejected', 'rejecting', 'rejection', 'rejects', 'rejig', 'rejuvenated', 'rekindle', 'related', 'relations', 'relationship', 'relatives', 'relaxed', 'relay', 'relays', 'release', 'released', 'releases', 'relegated', 'relegation', 'relevance', 'reliability', 'reliance', 'relics', 'relief', 'relieved', 'relieves', 'relieving', 'religion', 'religious', 'relishing', 'relocate', 'relocated', 'relocation', 'rely', 'relying', 'remain', 'remained', 'remaining', 'remains', 'remanded', 'remarkable', 'remarks', 'rematch', 'remember', 'remesy', 'reminded', 'reminder', 'remote', 'remove', 'removed', 'renaissance', 'renal', 'renames', 'renaming', 'renault', 'reneging', 'renew', 'renewable', 'renewed', 'renews', 'renmark', 'rennes', 'renovation', 'rental', 'reoffend', 'reopen', 'reopened', 'reopening', 'reopens', 'repair', 'repaired', 'repairs', 'repeat', 'repeats', 'repellent', 'replace', 'replaced', 'replacement', 'replaces', 'replay', 'report', 'reported', 'reportedly', 'reporter', 'reporters', 'reporting', 'reports', 'representation', 'representatives', 'reprieve', 'reprimanded', 'republic', 'republican', 'reputation', 'request', 'requests', 'required', 'requirements', 'rescue', 'rescued', 'rescuers', 'rescues', 'rescuing', 'research', 'researcher', 'researchers', 'reserve', 'reserves', 'reservoir', 'reshaping', 'reshuffle', 'residence', 'residency', 'resident', 'residential', 'residents', 'resign', 'resignation', 'resignations', 'resigned', 'resigning', 'resigns', 'resist', 'resistance', 'resists', 'resolution', 'resolve', 'resolved', 'resolves', 'resort', 'resource', 'resources', 'respect', 'respected', 'respects', 'respiratory', 'respite', 'responding', 'responds', 'response', 'responsibilities', 'responsibility', 'responsible', 'responsive', 'rest', 'restart', 'restarts', 'restate', 'restates', 'restaurant', 'restaurateur', 'rested', 'restocking', 'restoration', 'restore', 'restored', 'restrained', 'restraining', 'restraint', 'restricted', 'restricting', 'restrictions', 'restrictive', 'result', 'resulting', 'results', 'resume', 'resumes', 'resurgent', 'resurrect', 'resuscitation', 'retail', 'retailers', 'retain', 'retaining', 'retains', 'retaken', 'retaliation', 'retaliatory', 'retention', 'rethink', 'rethinks', 'retire', 'retired', 'retirement', 'retires', 'retrace', 'retracts', 'retreat', 'retrieve', 'retrieved', 'return', 'returned', 'returning', 'returns', 'reunification', 'reunion', 'reunited', 'reuniting', 'reuse', 'reuters', 'revamp', 'revamped', 'reveal', 'revealed', 'reveals', 'revegetation', 'revelation', 'revenge', 'revenue', 'reverend', 'review', 'reviewed', 'reviewing', 'reviews', 'revised', 'revises', 'revival', 'revive', 'revolt', 'revolution', 'revs', 'reward', 'rewards', 'rex', 'reynolds', 'rfs', 'rhh', 'rhinos', 'rhode', 'rhodes', 'ribbon', 'ricciuto', 'rice', 'ricegrowers', 'rich', 'richardson', 'richmond', 'ricochet', 'ride', 'rider', 'rides', 'ridiculous', 'riding', 'ridsdale', 'rife', 'rifle', 'rift', 'rig', 'rigging', 'right', 'rights', 'rigs', 'riled', 'ring', 'rio', 'rios', 'riot', 'rips', 'rise', 'rises', 'rising', 'risk', 'risking', 'risks', 'ritual', 'rival', 'rivalry', 'rivals', 'river', 'rivercare', 'riverina', 'riverland', 'rivers', 'rivkin', 'rivulet', 'rkc', 'rm', 'rmit', 'road', 'roadblock', 'roadhouse', 'roadmap', 'roads', 'roadside', 'roadworks', 'roar', 'roars', 'rob', 'robbed', 'robbers', 'robbery', 'robbie', 'robert', 'roberts', 'robertson', 'robinson', 'robo', 'robot', 'robredo', 'robson', 'rock', 'rocked', 'rocker', 'rockers', 'rocket', 'rocketed', 'rockets', 'rockhampton', 'rocks', 'rocky', 'roddick', 'rodriguez', 'roe', 'roeder', 'roff', 'rogers', 'roh', 'role', 'roll', 'rolled', 'rolleston', 'rolls', 'roma', 'romania', 'romario', 'rome', 'romes', 'romp', 'romps', 'ronaldinho', 'ronaldo', 'roo', 'roof', 'roofs', 'rookie', 'rookies', 'room', 'rooms', 'rooney', 'roos', 'roosters', 'ropes', 'ros', 'rosa', 'rosalind', 'rose', 'ross', 'rossi', 'rossner', 'roster', 'rot', 'rotated', 'rotation', 'rotterdam', 'rouge', 'rough', 'roughing', 'round', 'rounding', 'rounds', 'rout', 'route', 'routes', 'routs', 'rovanpera', 'rovers', 'row', 'rowdy', 'rower', 'rowing', 'rowling', 'roxby', 'royal', 'royalty', 'rsl', 'rsvp', 'rubber', 'rubbish', 'rubbishes', 'rubin', 'rucker', 'ruckus', 'rudd', 'rudder', 'ruddock', 'ruffle', 'ruffles', 'rugby', 'ruins', 'ruiz', 'rule', 'ruled', 'rules', 'ruling', 'rumble', 'rumour', 'rumoured', 'rumours', 'rumsfeld', 'run', 'runaway', 'runner', 'running', 'runs', 'rural', 'ruse', 'rush', 'rushed', 'russia', 'russian', 'russians', 'ruud', 'ryan', 'rychart', 'ryles', 'sa', 'sabri', 'sachin', 'sachs', 'sack', 'sacked', 'sacking', 'sackings', 'sacks', 'sacred', 'sacrifices', 'sad', 'saddam', 'saddams', 'safe', 'safer', 'safety', 'saff', 'saffie', 'safin', 'said', 'saigon', 'sailing', 'sailor', 'sailors', 'saints', 'sainz', 'sake', 'salaries', 'salary', 'sale', 'sales', 'saleyards', 'salinity', 'saloon', 'salvage', 'samoa', 'samoan', 'samoud', 'sampras', 'samuel', 'samurai', 'san', 'sanctioned', 'sanctions', 'sanctuaries', 'sand', 'sandalwood', 'sanders', 'sandon', 'sands', 'sandstorm', 'sandstorms', 'sandwich', 'sangakkara', 'sanremo', 'santana', 'santinis', 'santos', 'sarasota', 'sars', 'sarwan', 'sas', 'sasktel', 'sat', 'sated', 'satellite', 'satellites', 'satisfied', 'saturday', 'saudi', 'saudis', 'sausage', 'savage', 'save', 'saved', 'saves', 'saville', 'saving', 'savoldelli', 'saw', 'sawmill', 'say', 'says', 'sayyaf', 'sbs', 'scale', 'scaled', 'scales', 'scallop', 'scallops', 'scam', 'scammed', 'scams', 'scan', 'scandal', 'scans', 'scare', 'scared', 'scares', 'scarsdale', 'scathing', 'scavenge', 'scene', 'scenes', 'schedule', 'schedules', 'scheduling', 'scheme', 'schemes', 'schizophrenia', 'schmeichel', 'schnyders', 'scholes', 'school', 'schoolboy', 'schoolgirl', 'schoolgirls', 'schoolies', 'schooling', 'schools', 'schoolteacher', 'schroeder', 'schu', 'schumacher', 'schumann', 'schuttlers', 'schwab', 'science', 'scientific', 'scientist', 'scientists', 'scoff', 'score', 'scores', 'scoring', 'scorn', 'scotland', 'scots', 'scott', 'scottish', 'scottsdale', 'scourge', 'scouts', 'scrambles', 'scrap', 'scrapped', 'scraps', 'scratch', 'scratched', 'screen', 'screened', 'screening', 'script', 'scrumbase', 'scrutiny', 'scud', 'scuds', 'scuffle', 'scully', 'sculptor', 'sculpture', 'se', 'sea', 'seabird', 'seachange', 'seafood', 'seagulls', 'seal', 'sealink', 'seals', 'seam', 'seaman', 'search', 'searchers', 'searches', 'searching', 'seas', 'season', 'seat', 'seating', 'seats', 'secession', 'second', 'secrecy', 'secret', 'secretary', 'secretly', 'secrets', 'sect', 'section', 'sector', 'secure', 'secured', 'secures', 'securing', 'security', 'seed', 'seeded', 'seeding', 'seedorf', 'seeds', 'seek', 'seeker', 'seekers', 'seeking', 'seeks', 'seen', 'sees', 'seethe', 'seismic', 'seize', 'seized', 'seizes', 'seizure', 'select', 'selection', 'selectors', 'seles', 'self', 'sell', 'sellers', 'selling', 'sells', 'semi', 'seminar', 'semis', 'senate', 'senator', 'senators', 'send', 'senden', 'sending', 'sends', 'senior', 'seniors', 'sensation', 'sense', 'sensible', 'sent', 'sentence', 'sentenced', 'sentences', 'sentencing', 'sentiment', 'seoul', 'separate', 'separatist', 'separatists', 'sept', 'september', 'seqld', 'sequins', 'serb', 'serbia', 'serbian', 'serena', 'sergeant', 'serial', 'series', 'seriously', 'serve', 'serves', 'service', 'servicemen', 'services', 'ses', 'session', 'set', 'setback', 'sets', 'settings', 'settle', 'settlement', 'settlers', 'settles', 'seven', 'sevens', 'seventeen', 'seventh', 'severe', 'sewage', 'sewerage', 'sex', 'sexfor', 'sexual', 'sexually', 'shacks', 'shadow', 'shadowed', 'shake', 'shaken', 'shakes', 'shaky', 'shale', 'shambles', 'shangahi', 'shape', 'share', 'shareholder', 'shareholders', 'sharemarket', 'shares', 'sharing', 'sharjah', 'shark', 'sharks', 'sharon', 'sharpen', 'sharply', 'shattered', 'shatters', 'shaughnessy', 'shearer', 'shearing', 'shears', 'shed', 'sheds', 'sheedy', 'sheene', 'sheenes', 'sheep', 'sheffield', 'sheikh', 'shell', 'shellharbour', 'shelling', 'shelter', 'shelved', 'shelves', 'shepparton', 'sherpa', 'shevchenko', 'shield', 'shielding', 'shields', 'shift', 'shifting', 'shiites', 'shimange', 'shine', 'shines', 'ship', 'shipment', 'shipments', 'shipping', 'ships', 'shire', 'shires', 'shirt', 'shirvington', 'shirvo', 'shoalhaven', 'shock', 'shocked', 'shocks', 'shockwave', 'shoe', 'shoot', 'shooter', 'shooters', 'shooting', 'shootings', 'shoots', 'shop', 'shopkeepers', 'shoppers', 'shopping', 'shops', 'shoreline', 'shores', 'short', 'shortage', 'shortages', 'shortly', 'shot', 'shots', 'shoulder', 'shouldnt', 'shouts', 'showdown', 'showgrounds', 'showies', 'showing', 'showroom', 'shows', 'shrimp', 'shrine', 'shrinking', 'shrug', 'shrugs', 'shuffles', 'shun', 'shunned', 'shuns', 'shut', 'shuts', 'shuttle', 'shy', 'siblings', 'sick', 'sickening', 'sided', 'sideline', 'sidelined', 'sidelines', 'sides', 'sideshow', 'siege', 'sierra', 'siesta', 'sight', 'sighting', 'sights', 'sign', 'signage', 'signal', 'signals', 'signed', 'significant', 'signs', 'silence', 'silent', 'silicon', 'silk', 'silo', 'silver', 'silverdome', 'silvestre', 'simoni', 'simpering', 'simplistic', 'simply', 'simpson', 'sims', 'sinclair', 'sindelfingen', 'sing', 'singapore', 'singer', 'singh', 'singing', 'single', 'sings', 'sink', 'sinking', 'sinks', 'sino', 'sir', 'sirens', 'sister', 'sisters', 'site', 'sites', 'sitters', 'situation', 'sixers', 'sixes', 'sixteen', 'sixth', 'size', 'sizes', 'sizzling', 'skaife', 'skase', 'skate', 'skateboarding', 'skatepark', 'skating', 'skid', 'skier', 'skies', 'skiing', 'skilled', 'skills', 'skip', 'skipper', 'skittles', 'skull', 'sky', 'skydiving', 'skyrocket', 'skywest', 'slack', 'slain', 'slam', 'slams', 'slapping', 'slaps', 'slashes', 'slashin', 'slater', 'slaughter', 'slave', 'slays', 'sleep', 'slept', 'slice', 'slide', 'slides', 'slight', 'slightly', 'sling', 'slip', 'slippery', 'slips', 'slipway', 'slogan', 'slogs', 'slovenia', 'slow', 'slowly', 'slows', 'slugged', 'slump', 'slumps', 'slums', 'sm', 'small', 'smaller', 'smart', 'smash', 'smashes', 'smell', 'smelter', 'smigun', 'smiles', 'smith', 'smithton', 'smoke', 'smoked', 'smoking', 'smother', 'smuggled', 'smuggler', 'smugglers', 'smuggling', 'snag', 'snake', 'snap', 'snapper', 'snare', 'snares', 'snatch', 'snatches', 'sneak', 'sneaks', 'sniffing', 'snip', 'snipers', 'snow', 'snowboarder', 'snowfall', 'snowies', 'snowtown', 'snowy', 'snub', 'snubs', 'snuff', 'soar', 'sobered', 'sobering', 'soccer', 'socceroo', 'socceroos', 'social', 'sociedad', 'society', 'socket', 'sofa', 'soft', 'softballers', 'software', 'soil', 'solar', 'solberg', 'sold', 'soldier', 'soldiers', 'solemn', 'solicitor', 'solid', 'solo', 'solomon', 'solomons', 'solution', 'solutions', 'solve', 'solved', 'solvent', 'solving', 'sombre', 'son', 'song', 'sons', 'soon', 'soorley', 'soorleys', 'sopranos', 'sorenstam', 'sorry', 'sort', 'sos', 'sought', 'soul', 'sound', 'souness', 'sour', 'source', 'sources', 'souris', 'south', 'southcorp', 'southern', 'souths', 'soviet', 'sow', 'spa', 'space', 'spadea', 'spain', 'spanish', 'spank', 'sparingly', 'spark', 'sparked', 'sparkies', 'sparking', 'sparks', 'spat', 'spawning', 'spc', 'speak', 'speaker', 'speaks', 'special', 'specialised', 'specialist', 'species', 'spectators', 'spectrometre', 'speculate', 'speculation', 'speech', 'speed', 'speeding', 'speight', 'spell', 'spells', 'spending', 'spends', 'spent', 'spies', 'spike', 'spiking', 'spill', 'spills', 'spilt', 'spin', 'spinal', 'spinners', 'spirit', 'spirits', 'spitting', 'spl', 'split', 'splits', 'splurge', 'spoiling', 'spoils', 'spokesman', 'sponsor', 'sponsorship', 'spoon', 'sport', 'sporting', 'sports', 'sportsbet', 'spot', 'spotlight', 'spots', 'spotted', 'spray', 'sprayed', 'spraying', 'spread', 'spreading', 'spreads', 'spree', 'sprinboks', 'spring', 'springboard', 'springbok', 'springboks', 'springborg', 'springer', 'springs', 'springsteen', 'sprinkler', 'sprint', 'sprinter', 'sprinters', 'sprints', 'sptcri', 'sptrby', 'spurned', 'spurns', 'spurs', 'spurt', 'spy', 'spying', 'squad', 'squads', 'square', 'squatter', 'squatters', 'squeeze', 'squeezed', 'srebrenica', 'sri', 'srinath', 'sris', 'ssa', 'st', 'stabbed', 'stabbing', 'stabbings', 'stability', 'stabs', 'stack', 'stacker', 'staff', 'staffers', 'staffing', 'staffs', 'stage', 'staged', 'stages', 'stake', 'stalemate', 'stalking', 'stall', 'stalled', 'stallions', 'stalls', 'stam', 'stamp', 'stamps', 'stanbroke', 'stance', 'stand', 'standard', 'standardisation', 'standards', 'standing', 'standings', 'stands', 'stanhope', 'stanley', 'stanvac', 'stanwell', 'staph', 'star', 'starr', 'stars', 'start', 'starter', 'starting', 'starts', 'starving', 'state', 'statement', 'statements', 'states', 'static', 'station', 'stations', 'statistics', 'stats', 'statue', 'status', 'staunch', 'stave', 'stay', 'staying', 'stays', 'steady', 'steadying', 'steal', 'stealing', 'steals', 'steam', 'steel', 'steelworks', 'steer', 'steers', 'stellar', 'stem', 'step', 'stepfather', 'steps', 'sterjovski', 'sternum', 'sterrey', 'stevens', 'stevenson', 'stewart', 'sth', 'stick', 'sticking', 'sticks', 'sticky', 'stifling', 'sting', 'stinger', 'stingers', 'stink', 'stirring', 'stock', 'stockman', 'stockpiling', 'stocks', 'stoddart', 'stolen', 'stolz', 'stomach', 'stomp', 'stomping', 'stomps', 'stone', 'stoner', 'stones', 'stoning', 'stood', 'stop', 'stopover', 'stopping', 'stops', 'storage', 'storages', 'store', 'storeroom', 'stories', 'storm', 'stormers', 'storms', 'stosur', 'stoush', 'straaten', 'stragglers', 'straight', 'strain', 'strait', 'stranded', 'stranding', 'strands', 'stranger', 'strangers', 'strapped', 'strategic', 'strategies', 'strategist', 'strategy', 'straw', 'straws', 'stray', 'strays', 'streak', 'streaks', 'stream', 'street', 'streets', 'strength', 'strengthen', 'strengthened', 'strengthens', 'stretched', 'stricken', 'strict', 'strife', 'strike', 'striker', 'strikers', 'strikes', 'striking', 'strip', 'stroke', 'strokes', 'stroll', 'strolls', 'strong', 'stronger', 'strongest', 'stronghold', 'strongly', 'struck', 'structure', 'struggle', 'struggles', 'struggling', 'strung', 'stuart', 'stuck', 'student', 'students', 'studied', 'studies', 'study', 'studys', 'stuff', 'stumble', 'stumbling', 'stun', 'stung', 'stunned', 'stunning', 'stuns', 'stunt', 'stutter', 'stuttgart', 'stuttle', 'style', 'sub', 'subdivision', 'subdued', 'subject', 'subjects', 'submission', 'submissions', 'subs', 'subsidies', 'subsidised', 'subsidy', 'substance', 'substandard', 'substitutes', 'suburb', 'suburbia', 'suburbs', 'subversive', 'subway', 'success', 'successful', 'successive', 'succumbs', 'sudan', 'sudanese', 'sue', 'sues', 'suffer', 'suffered', 'sufferer', 'suffering', 'suffers', 'sugar', 'sugarcane', 'suggested', 'suggestions', 'suggests', 'sugiyama', 'suicide', 'suing', 'suit', 'suitable', 'suitcase', 'suitcases', 'suiting', 'suits', 'sulky', 'sum', 'summer', 'summing', 'summit', 'summon', 'summons', 'sun', 'suncorp', 'sunday', 'sunderland', 'sunflower', 'sunk', 'sunnier', 'sunrace', 'sunrise', 'sunshine', 'super', 'superannuation', 'superbike', 'superbikes', 'supercomputer', 'supermarket', 'supermarkets', 'superstitions', 'supplementary', 'suppliers', 'supplies', 'supply', 'supplying', 'support', 'supporter', 'supporters', 'supporting', 'supports', 'supremacy', 'supreme', 'surat', 'surcharge', 'sure', 'surf', 'surfer', 'surfers', 'surfing', 'surge', 'surgery', 'surges', 'surgical', 'surplus', 'surprise', 'surprised', 'surprises', 'surrender', 'surrendered', 'surrendering', 'surrenders', 'surround', 'surrounds', 'surveillance', 'survey', 'surveying', 'survival', 'survive', 'survives', 'surviving', 'survivor', 'survivors', 'suspect', 'suspected', 'suspects', 'suspend', 'suspended', 'suspends', 'suspension', 'suspicious', 'sustain', 'sustainable', 'sutton', 'suu', 'suzuka', 'sven', 'svens', 'swain', 'swamp', 'swan', 'swans', 'swansong', 'swarm', 'sway', 'swazi', 'sweat', 'sweats', 'swede', 'sweden', 'sweep', 'sweeping', 'sweeps', 'sweet', 'sweetener', 'swept', 'swift', 'swim', 'swimmer', 'swimmers', 'swimming', 'swims', 'swindles', 'swing', 'swipe', 'swiss', 'switch', 'switched', 'swoop', 'sword', 'sworn', 'sydney', 'sydneys', 'symonds', 'sympathies', 'sympathy', 'symposium', 'symptoms', 'syndicate', 'syria', 'syrian', 'syrians', 'syrias', 'syringe', 'systems', 'szabo', 'tab', 'tabcorp', 'table', 'tabled', 'tablelands', 'tables', 'tablets', 'tack', 'tackle', 'tackles', 'tactics', 'tadpole', 'tafe', 'tag', 'tagged', 'tagging', 'tahu', 'tail', 'taipans', 'taiwan', 'tajikistan', 'taken', 'takeover', 'takes', 'taking', 'takings', 'tale', 'talent', 'taliban', 'talk', 'talker', 'talks', 'tallis', 'tally', 'tame', 'tamer', 'tammin', 'tampa', 'tampering', 'tamworth', 'tanevula', 'tangara', 'tank', 'tanker', 'tanks', 'tanner', 'tap', 'tape', 'taper', 'tapes', 'target', 'targeted', 'targeting', 'targets', 'tariff', 'tariffs', 'tarmac', 'tarpfest', 'tas', 'task', 'tasks', 'tasmania', 'tasmanian', 'tasmanias', 'tassie', 'tassies', 'taste', 'tasting', 'tatts', 'taufel', 'taurima', 'taurimas', 'tavern', 'tax', 'taxi', 'taxing', 'taylor', 'tb', 'teach', 'teacher', 'teachers', 'teaching', 'team', 'teams', 'tear', 'tears', 'tech', 'technical', 'techno', 'technology', 'techs', 'teen', 'teenage', 'teenager', 'teenagers', 'teens', 'teeth', 'tehran', 'telecast', 'telekom', 'television', 'tell', 'teller', 'tells', 'telstra', 'telstras', 'temple', 'temporarily', 'temporary', 'tempted', 'temu', 'tender', 'tendering', 'tenders', 'tendinitis', 'tendulkar', 'tennant', 'tennis', 'tens', 'tense', 'tension', 'tensions', 'tent', 'term', 'terminal', 'terminally', 'terminals', 'terms', 'tern', 'terrain', 'terrified', 'territory', 'territorys', 'terror', 'terrorism', 'terrorist', 'terrorists', 'terry', 'tertiary', 'test', 'tested', 'testifies', 'testing', 'tests', 'texas', 'text', 'textiles', 'tha', 'thai', 'thailand', 'thailands', 'thank', 'thankful', 'thanks', 'thanksgiving', 'thankyou', 'thatcher', 'theatre', 'theatres', 'theft', 'thefts', 'theory', 'theyll', 'thief', 'thieves', 'thigh', 'think', 'thinkers', 'thinking', 'thinks', 'thinktank', 'thirteen', 'thomas', 'thompson', 'thomson', 'thorpe', 'thorpes', 'thought', 'thousands', 'thrash', 'thrashed', 'thrashing', 'threat', 'threaten', 'threatened', 'threatening', 'threatens', 'threats', 'thredbo', 'threesome', 'threshold', 'thrilled', 'thriller', 'thrillers', 'throat', 'throw', 'throwers', 'throwing', 'thrown', 'throws', 'thrust', 'thumbs', 'thump', 'thumped', 'thumping', 'thunder', 'thunderbirds', 'thunders', 'thunderstorms', 'thursday', 'thwaites', 'thwarted', 'tiananmen', 'tiatto', 'tibooburra', 'tick', 'ticket', 'tickets', 'tide', 'tides', 'tidy', 'tie', 'tied', 'tier', 'ties', 'tigana', 'tiger', 'tigers', 'tight', 'tighten', 'tightened', 'tightens', 'tighter', 'tightlipped', 'tigris', 'tikolo', 'tiles', 'till', 'tilt', 'timber', 'time', 'timed', 'timeline', 'timely', 'times', 'timetable', 'timid', 'timing', 'timor', 'timorese', 'timors', 'tingha', 'tinnie', 'tip', 'tipped', 'tipping', 'tips', 'tired', 'tirreno', 'tissue', 'title', 'titles', 'tiwi', 'tnz', 'toad', 'toads', 'toasts', 'tobacco', 'tobin', 'today', 'toddler', 'toilets', 'tokyo', 'told', 'tolerance', 'tolerant', 'toll', 'tomahawk', 'tomahawks', 'tomas', 'tomasson', 'tomorrow', 'tomorrows', 'toms', 'ton', 'tone', 'tonga', 'tongala', 'tonic', 'tonight', 'tonnes', 'tons', 'tools', 'toowoomba', 'topple', 'toppling', 'tops', 'torbay', 'torched', 'torches', 'torino', 'tormentor', 'torn', 'tornados', 'torpedoes', 'torres', 'tortoises', 'torture', 'tortured', 'toss', 'tossing', 'total', 'totalcare', 'tots', 'totti', 'touch', 'touched', 'touches', 'touching', 'tough', 'toughens', 'tougher', 'toughest', 'tour', 'touring', 'tourism', 'tourist', 'tourists', 'tournament', 'tours', 'touts', 'towed', 'tower', 'towers', 'town', 'towns', 'township', 'townsville', 'toxic', 'toy', 'toyne', 'toys', 'toyworld', 'trace', 'traced', 'traces', 'track', 'tracked', 'tracking', 'tracks', 'trade', 'trading', 'tradition', 'traditional', 'traffic', 'trafficker', 'tragedy', 'tragic', 'trail', 'trailer', 'trailing', 'trails', 'train', 'trained', 'trainer', 'training', 'trains', 'tram', 'tranquiliser', 'transfer', 'transferred', 'transformed', 'transit', 'transparency', 'transparent', 'transplant', 'transport', 'transsexual', 'transvestite', 'trap', 'trapped', 'trashing', 'traumatic', 'traumatises', 'travel', 'traveller', 'travellers', 'travels', 'travis', 'travolta', 'trawler', 'trawling', 'treason', 'treasurer', 'treasurers', 'treasures', 'treasury', 'treat', 'treated', 'treatment', 'treaty', 'treble', 'tree', 'trefoil', 'tremor', 'trenches', 'trend', 'trends', 'trescothick', 'trezeguet', 'trial', 'trials', 'triangle', 'triathletes', 'triathlon', 'tribunal', 'tribute', 'tributes', 'trick', 'tries', 'trigger', 'triggers', 'trimble', 'trims', 'trio', 'trip', 'triple', 'triples', 'triumph', 'trolley', 'troop', 'troops', 'tropfest', 'trophies', 'trophy', 'tropical', 'troppo', 'trouble', 'troubled', 'troupe', 'truancy', 'truck', 'trucker', 'truckie', 'truckies', 'trucking', 'trucks', 'true', 'trulli', 'trust', 'trustee', 'truth', 'try', 'trying', 'tshirt', 'tso', 'tt', 'tuck', 'tucker', 'tuckey', 'tucson', 'tugay', 'tugboats', 'tugun', 'tulkarm', 'tumbarumba', 'tumble', 'tumbles', 'tumour', 'tumours', 'tumut', 'tuna', 'tune', 'tunisia', 'tunnel', 'tupou', 'turbulence', 'turf', 'turin', 'turkey', 'turkeys', 'turkish', 'turks', 'turn', 'turnaround', 'turnbull', 'turned', 'turner', 'turning', 'turnout', 'turns', 'turtle', 'turtles', 'tusks', 'tussle', 'tv', 'tville', 'tvs', 'tway', 'tweed', 'twelfth', 'twice', 'twin', 'twu', 'type', 'tyres', 'tyson', 'u2', 'uae', 'uci', 'uday', 'uefa', 'uganda', 'ugly', 'uk', 'ulirach', 'ullrich', 'ullrichs', 'ulster', 'ultimatum', 'ultralight', 'uluru', 'umm', 'umpire', 'umpiring', 'unacceptable', 'unauthorised', 'unavoidable', 'unaware', 'unbeaten', 'unborn', 'uncertain', 'uncertainty', 'unchanged', 'unclear', 'unconcerned', 'unconventional', 'unconvinced', 'uncovers', 'undecided', 'undefeated', 'underage', 'undercover', 'underdogs', 'underestimate', 'undergo', 'undergoes', 'underground', 'underline', 'undermined', 'undermines', 'understanding', 'underwater', 'underway', 'undeterred', 'undone', 'unemployment', 'unethical', 'unexpected', 'unfair', 'unfamiliar', 'unfenced', 'unfit', 'unforgivable', 'unfurl', 'unhappy', 'unharmed', 'unhelpful', 'unhooked', 'uni', 'unicef', 'unified', 'unilateral', 'unimpressed', 'union', 'unions', 'unis', 'unit', 'unite', 'united', 'uniteds', 'units', 'unity', 'universal', 'universities', 'university', 'unknown', 'unlawful', 'unlicenced', 'unlikely', 'unlock', 'unmoved', 'unoccupied', 'unparalleled', 'unpopularity', 'unrest', 'unroofs', 'unruly', 'unsatisfactory', 'unsecured', 'unsolved', 'unsure', 'unsurprised', 'unswayed', 'unusual', 'unveil', 'unveiled', 'unveils', 'unwarranted', 'unwilling', 'upbeat', 'update', 'updated', 'updates', 'upfront', 'upgrade', 'upgraded', 'upgrades', 'uphold', 'upholds', 'upper', 'uppers', 'uprising', 'uproot', 'ups', 'upset', 'upsets', 'upstages', 'uptake', 'uq', 'uralla', 'uranium', 'urban', 'urge', 'urged', 'urgent', 'urges', 'urging', 'usd', 'use', 'used', 'users', 'uses', 'using', 'usq', 'usual', 'utah', 'utahs', 'utd', 'ute', 'utrecht', 'uzbek', 'uzbekistan', 'v8', 'v8s', 'vacc', 'vaccination', 'vaccinations', 'vaccine', 'vacuum', 'vagana', 'vague', 'vaile', 'vajpayee', 'valencia', 'valley', 'valuation', 'valuations', 'value', 'values', 'vamped', 'van', 'vandalism', 'vandals', 'vanguard', 'vanstone', 'vanuatu', 'variety', 'vasco', 'vaughan', 'vault', 'veers', 'vegetable', 'vegetation', 'vehicle', 'veletta', 'velodrome', 'venables', 'venezuela', 'venter', 'venture', 'ventures', 'venue', 'venus', 'verdict', 'verification', 'verkerk', 'vermeulen', 'vermin', 'veron', 'verstappen', 'veteran', 'veterans', 'veto', 'vets', 'vff', 'viability', 'viable', 'vials', 'vibe', 'vic', 'vice', 'vicroads', 'vics', 'victim', 'victims', 'victor', 'victoria', 'victorian', 'victorians', 'victorias', 'victory', 'video', 'videos', 'viduka', 'vidukas', 'vie', 'vieira', 'vietnam', 'view', 'viewer', 'vigil', 'vigilant', 'vigils', 'viking', 'villa', 'village', 'villagers', 'villeneuve', 'villiers', 'vinnicombe', 'vinokourov', 'vinokurov', 'vintage', 'violation', 'violence', 'violent', 'vips', 'virgin', 'virtual', 'virtually', 'virulent', 'virus', 'visa', 'visas', 'vision', 'visionary', 'visit', 'visitors', 'visits', 'vital', 'vitamin', 'vogts', 'voice', 'voices', 'volk', 'volkers', 'voluntary', 'volunteer', 'volunteers', 'voss', 'vote', 'voted', 'voter', 'voters', 'votes', 'voting', 'voucher', 'vouchers', 'vow', 'vowles', 'vows', 'voyage', 'vs', 'vulnerable', 'vx', 'wa', 'waa', 'waff', 'wafl', 'wage', 'wages', 'wagga', 'wagons', 'waikato', 'wait', 'waiting', 'waits', 'waive', 'waives', 'wake', 'walcha', 'wales', 'walk', 'walker', 'walkers', 'walking', 'walkinshaw', 'walkout', 'walks', 'walkway', 'wall', 'wallabies', 'wallis', 'walls', 'waltzing', 'wambo', 'wandering', 'wane', 'wanganeen', 'wannon', 'want', 'wanted', 'wants', 'war', 'waratah', 'waratahs', 'ward', 'warfare', 'warhorses', 'warlords', 'warm', 'warming', 'warn', 'warne', 'warned', 'warnes', 'warnie', 'warning', 'warnings', 'warns', 'warpath', 'warplane', 'warplanes', 'warrant', 'warriors', 'wars', 'wartime', 'wary', 'wash', 'washed', 'washer', 'washes', 'washing', 'washington', 'wasim', 'wasnt', 'wasp', 'waste', 'wasteful', 'wastes', 'wastewater', 'wasting', 'watch', 'watchdog', 'watcher', 'water', 'waterbomber', 'waterfall', 'waters', 'waterskiing', 'waterway', 'waterways', 'watford', 'watkins', 'waugh', 'wave', 'waves', 'way', 'wayne', 'waynes', 'ways', 'wayward', 'wba', 'wbo', 'wea', 'weakened', 'weakens', 'weaker', 'weakness', 'weapon', 'weapons', 'wear', 'weather', 'web', 'webb', 'webber', 'webcasts', 'website', 'websites', 'wedding', 'wednesday', 'wee', 'weed', 'weeds', 'week', 'weekend', 'weeks', 'weetwood', 'weigh', 'weighs', 'weight', 'weir', 'welcome', 'welcomed', 'welcomes', 'welcoming', 'welfare', 'wellman', 'wells', 'welsh', 'wenger', 'went', 'werent', 'wesfarmers', 'west', 'western', 'westerners', 'westhuizen', 'westpac', 'wet', 'wetlands', 'wettest', 'wfp', 'whacked', 'whale', 'whales', 'whaling', 'whan', 'whatmore', 'whatmores', 'whats', 'wheat', 'wheatbelt', 'wheel', 'wheels', 'whereabouts', 'wheres', 'whining', 'whip', 'whitaker', 'white', 'whooping', 'whopper', 'whos', 'whyalla', 'wickets', 'wickham', 'wicklow', 'wide', 'widen', 'widnes', 'widow', 'wield', 'wife', 'wifes', 'wifis', 'wigan', 'wild', 'wildcats', 'wilderness', 'wildlife', 'wilful', 'wilkinson', 'willem', 'williams', 'williamson', 'willing', 'willingness', 'willoughby', 'wily', 'wimbledon', 'wimmera', 'win', 'winched', 'wind', 'windfall', 'windies', 'windows', 'winds', 'windsurfer', 'wine', 'winegrape', 'winemakers', 'wineries', 'winery', 'wines', 'wing', 'wings', 'winless', 'winner', 'winners', 'winnie', 'winning', 'wins', 'winter', 'wipes', 'wiranto', 'wire', 'wish', 'wishes', 'wisla', 'witch', 'withdraw', 'withdrawal', 'withdrawn', 'withdraws', 'withheld', 'withholding', 'withstand', 'withstands', 'witness', 'witnesses', 'wizards', 'wmc', 'wmcs', 'wmd', 'wmds', 'wnbl', 'woes', 'wolf', 'wolfsburg', 'wollongong', 'wolves', 'womadelaide', 'woman', 'womans', 'women', 'womens', 'won', 'wonder', 'wont', 'woo', 'woodbridge', 'woodbury', 'woodchip', 'wooden', 'woodgate', 'woods', 'woodward', 'wool', 'woolgrowers', 'woolworths', 'woomera', 'words', 'work', 'workcover', 'worker', 'workers', 'workforce', 'working', 'workmanship', 'workplace', 'works', 'worksafe', 'workshop', 'workshops', 'world', 'worldcom', 'worlds', 'worldwide', 'worms', 'worried', 'worries', 'worry', 'worse', 'worsen', 'worsens', 'worst', 'worth', 'wouldnt', 'wound', 'wounded', 'wounding', 'wounds', 'wr', 'wrangle', 'wrap', 'wrapped', 'wraps', 'wreak', 'wreaks', 'wreck', 'wrestle', 'wrestling', 'wright', 'write', 'writedown', 'writers', 'writes', 'writing', 'wrong', 'wta', 'wtc', 'wto', 'wwf', 'wwi', 'wyalkatchem', 'xi', 'xpt', 'yacht', 'yachtsman', 'yandina', 'yaos', 'yaraka', 'yard', 'yeadon', 'year', 'yearly', 'years', 'yells', 'yemen', 'yemeni', 'yeppoon', 'yield', 'yields', 'yongbyon', 'york', 'yorker', 'yorkshire', 'youhana', 'young', 'youngest', 'youngster', 'youngsters', 'youth', 'youths', 'yr', 'yuryevich', 'zabaleta', 'zabel', 'zambia', 'zanetti', 'zap', 'zberg', 'zealand', 'zeehan', 'zellweger', 'zidane', 'ziege', 'zim', 'zimbabwe', 'zimbabwean', 'zimbabwes', 'zimmerman', 'zone', 'zones', 'zoning', 'zoo', 'zoos', 'zurich']\n"
     ]
    }
   ],
   "source": [
    "print(len(word_features),word_features,sep='\\n')"
   ]
  },
  {
   "cell_type": "code",
   "execution_count": null,
   "metadata": {
    "jupyter": {
     "source_hidden": true
    }
   },
   "outputs": [],
   "source": []
  },
  {
   "cell_type": "markdown",
   "metadata": {},
   "source": [
    "2. stemming  \n",
    "stemming 是将单词还原为词干（即词根形式）的过程。 词根形式不一定是单词本身，而是可以通过连接正确的后缀来生成单词。 例如，“fish”，“fishes”和“fishing”这几个词的词干都是“fish”，这是一个正确的单词。 另一方面，“study”，“studies”和“studying”一词源于“studi”，这不是一个正确的英语单词。"
   ]
  },
  {
   "cell_type": "code",
   "execution_count": 27,
   "metadata": {},
   "outputs": [],
   "source": [
    "stemmer = SnowballStemmer('english')"
   ]
  },
  {
   "cell_type": "markdown",
   "metadata": {},
   "source": [
    "3. 句子-->单词+标点 Tokenizing"
   ]
  },
  {
   "cell_type": "markdown",
   "metadata": {},
   "source": [
    "<font color = 'red' size = 5> RegexpTokenizer </font>  \n",
    "使用方法详见： https://www.kite.com/python/docs/nltk.RegexpTokenizer"
   ]
  },
  {
   "cell_type": "code",
   "execution_count": 40,
   "metadata": {},
   "outputs": [],
   "source": [
    "tokenizer = RegexpTokenizer(r'[a-zA-Z\\']+')"
   ]
  },
  {
   "cell_type": "code",
   "execution_count": 41,
   "metadata": {},
   "outputs": [],
   "source": [
    "def tokenize(text):\n",
    "    \"\"\"\n",
    "    先进行 stemming 然后 tokenize\n",
    "    params:\n",
    "    text: 一个句子\n",
    "    \n",
    "    return:\n",
    "    tokens 列表\n",
    "    \"\"\"\n",
    "    return [stemmer.stem(word) for word in tokenizer.tokenize(text.lower())]"
   ]
  },
  {
   "cell_type": "markdown",
   "metadata": {},
   "source": [
    "4. Tfidf向量化"
   ]
  },
  {
   "cell_type": "code",
   "execution_count": 45,
   "metadata": {},
   "outputs": [
    {
     "name": "stderr",
     "output_type": "stream",
     "text": [
      "/opt/anaconda3/lib/python3.7/site-packages/sklearn/feature_extraction/text.py:300: UserWarning: Your stop_words may be inconsistent with your preprocessing. Tokenizing the stop words generated tokens ['abov', 'afterward', 'alon', 'alreadi', 'alway', 'ani', 'anoth', 'anyon', 'anyth', 'anywher', 'becam', 'becaus', 'becom', 'befor', 'besid', 'cri', 'describ', 'dure', 'els', 'elsewher', 'empti', 'everi', 'everyon', 'everyth', 'everywher', 'fifti', 'forti', 'henc', 'hereaft', 'herebi', 'howev', 'hundr', 'inde', 'mani', 'meanwhil', 'moreov', 'nobodi', 'noon', 'noth', 'nowher', 'onc', 'onli', 'otherwis', 'ourselv', 'perhap', 'pleas', 'sever', 'sinc', 'sincer', 'sixti', 'someon', 'someth', 'sometim', 'somewher', 'themselv', 'thenc', 'thereaft', 'therebi', 'therefor', 'togeth', 'twelv', 'twenti', 'veri', 'whatev', 'whenc', 'whenev', 'wherea', 'whereaft', 'wherebi', 'wherev', 'whi', 'yourselv'] not in stop_words.\n",
      "  'stop_words.' % sorted(inconsistent))\n"
     ]
    },
    {
     "name": "stdout",
     "output_type": "stream",
     "text": [
      "6909\n",
      "['aa', 'aac', 'ab', 'aba', 'abalon', 'abandon', 'abar', 'abattoir', 'abbott', 'abc', 'abdic', 'abduct', 'abid', 'abigroup', 'abil', 'abl', 'ablaz', 'aboard', 'abolit', 'aborigin', 'abort', 'abov', 'abreast', 'abroad', 'absenc', 'absent', 'abu', 'abund', 'abus', 'abysm', 'ac', 'aca', 'academ', 'academi', 'acapulco', 'acb', 'accc', 'accent', 'accept', 'access', 'accid', 'accident', 'accommod', 'account', 'accredit', 'accus', 'ace', 'aceh', 'achiev', 'acid']\n"
     ]
    }
   ],
   "source": [
    "vectorizer2 = TfidfVectorizer(stop_words = stop_word, tokenizer = tokenize)\n",
    "X2 = vectorizer2.fit_transform(desc)\n",
    "word_features2 = vectorizer2.get_feature_names()\n",
    "print(len(word_features2))\n",
    "print(word_features2[:50]) "
   ]
  },
  {
   "cell_type": "code",
   "execution_count": 48,
   "metadata": {},
   "outputs": [
    {
     "name": "stderr",
     "output_type": "stream",
     "text": [
      "/opt/anaconda3/lib/python3.7/site-packages/sklearn/feature_extraction/text.py:300: UserWarning: Your stop_words may be inconsistent with your preprocessing. Tokenizing the stop words generated tokens ['abov', 'afterward', 'alon', 'alreadi', 'alway', 'ani', 'anoth', 'anyon', 'anyth', 'anywher', 'becam', 'becaus', 'becom', 'befor', 'besid', 'cri', 'describ', 'dure', 'els', 'elsewher', 'empti', 'everi', 'everyon', 'everyth', 'everywher', 'fifti', 'forti', 'henc', 'hereaft', 'herebi', 'howev', 'hundr', 'inde', 'mani', 'meanwhil', 'moreov', 'nobodi', 'noon', 'noth', 'nowher', 'onc', 'onli', 'otherwis', 'ourselv', 'perhap', 'pleas', 'sever', 'sinc', 'sincer', 'sixti', 'someon', 'someth', 'sometim', 'somewher', 'themselv', 'thenc', 'thereaft', 'therebi', 'therefor', 'togeth', 'twelv', 'twenti', 'veri', 'whatev', 'whenc', 'whenev', 'wherea', 'whereaft', 'wherebi', 'wherev', 'whi', 'yourselv'] not in stop_words.\n",
      "  'stop_words.' % sorted(inconsistent))\n"
     ]
    },
    {
     "name": "stdout",
     "output_type": "stream",
     "text": [
      "1000\n",
      "['aa', 'aac', 'ab', 'aba', 'abalon', 'abandon', 'abar', 'abattoir', 'abbott', 'abc', 'abdic', 'abduct', 'abid', 'abigroup', 'abil', 'abl', 'ablaz', 'aboard', 'abolit', 'aborigin', 'abort', 'abov', 'abreast', 'abroad', 'absenc', 'absent', 'abu', 'abund', 'abus', 'abysm', 'ac', 'aca', 'academ', 'academi', 'acapulco', 'acb', 'accc', 'accent', 'accept', 'access', 'accid', 'accident', 'accommod', 'account', 'accredit', 'accus', 'ace', 'aceh', 'achiev', 'acid']\n"
     ]
    },
    {
     "data": {
      "text/plain": [
       "<9967x1000 sparse matrix of type '<class 'numpy.float64'>'\n",
       "\twith 33872 stored elements in Compressed Sparse Row format>"
      ]
     },
     "execution_count": 48,
     "metadata": {},
     "output_type": "execute_result"
    }
   ],
   "source": [
    "vectorizer3 = TfidfVectorizer(stop_words = stop_word, tokenizer = tokenize,max_features=1000)\n",
    "X3 = vectorizer3.fit_transform(desc)\n",
    "word_features3 = vectorizer3.get_feature_names()\n",
    "print(len(word_features3))\n",
    "print(word_features2[:50]) \n",
    "X3"
   ]
  },
  {
   "cell_type": "markdown",
   "metadata": {},
   "source": [
    "## KMeans 聚类"
   ]
  },
  {
   "cell_type": "markdown",
   "metadata": {},
   "source": [
    "- 手肘法选择k：随着聚类数k的增大,样本划分会更加的精细,每个簇的聚合程度会逐渐提高,那么误差平方和SSE自然会逐渐变小,并且当k小于真实的簇类数时,由于k的增大会大幅增加每个簇的聚合程度,因此SSE的下降幅度会很大,而当k到达真实聚类数时,再增加k所得到的聚合程度回报会迅速变小,所以SSE的下降幅度会骤减,然后随着k值的继续增大而趋于平缓,也就是说SSE和k的关系类似于手肘的形状,而这个肘部对应的k值就是数据的真实聚类数.因此这种方法被称为手肘法\n",
    "\n",
    "- https://scikit-learn.org/stable/modules/generated/sklearn.cluster.KMeans.html"
   ]
  },
  {
   "cell_type": "code",
   "execution_count": 52,
   "metadata": {},
   "outputs": [
    {
     "data": {
      "image/png": "[encoded data removed]",
      "text/plain": [
       "<Figure size 432x288 with 1 Axes>"
      ]
     },
     "metadata": {
      "needs_background": "light"
     },
     "output_type": "display_data"
    }
   ],
   "source": [
    "wcss = []\n",
    "\n",
    "for i in range(1,12):\n",
    "    kmeans = KMeans(n_clusters = i,max_iter=300,n_init=10,random_state=0)\n",
    "    kmeans.fit(X3)\n",
    "    wcss.append(kmeans.inertia_)\n",
    "\n",
    "plt.plot(range(1,12),wcss)\n",
    "plt.title('The Elbow method')\n",
    "plt.xlabel('Number of clusters')\n",
    "plt.ylabel('WCSS')\n",
    "plt.show()"
   ]
  },
  {
   "cell_type": "code",
   "execution_count": 53,
   "metadata": {},
   "outputs": [],
   "source": [
    "# cluster"
   ]
  },
  {
   "cell_type": "code",
   "execution_count": 60,
   "metadata": {},
   "outputs": [
    {
     "data": {
      "text/plain": [
       "array([[467, 642, 392, 587, 544, 981, 779, 214, 468, 176, 164, 965, 733,\n",
       "         78, 488, 373, 945, 994, 967, 219, 326, 593, 928, 707, 250],\n",
       "       [963, 691,  45, 467, 436, 710, 649, 665, 779, 642, 862, 335, 198,\n",
       "        468, 132, 549, 899, 546, 286, 965, 262, 846, 310, 842, 631],\n",
       "       [654, 680, 544,  54, 788, 250, 465, 578, 164, 294, 840, 959, 143,\n",
       "        848, 334, 147, 570, 950, 691, 754, 876, 291, 594, 212, 587]])"
      ]
     },
     "execution_count": 60,
     "metadata": {},
     "output_type": "execute_result"
    }
   ],
   "source": [
    "kmeans = KMeans(n_clusters = 3, n_init = 20, n_jobs = 1) # n_init(number of iterations for clsutering) n_jobs(number of cpu cores to use)\n",
    "kmeans.fit(X3)\n",
    "# We look at 3 the clusters generated by k-means.\n",
    "# argsort 使用方法详见： https://numpy.org/doc/stable/reference/generated/numpy.argsort.html\n",
    "# common_words = kmeans.cluster_centers_.argsort() #(3,1000)\n",
    "common_words = kmeans.cluster_centers_.argsort()[:,-1:-26:-1] #(3,25)\n",
    "common_words"
   ]
  },
  {
   "cell_type": "code",
   "execution_count": 69,
   "metadata": {},
   "outputs": [],
   "source": [
    "def k_cluster(n_cluster,n_init=20):\n",
    "    kmeans = KMeans(n_clusters = n_cluster,n_init=n_init,random_state=0)\n",
    "    kmeans.fit(X3)\n",
    "    return kmeans.cluster_centers_.argsort()[:,-1:-26:-1]"
   ]
  },
  {
   "cell_type": "code",
   "execution_count": 70,
   "metadata": {},
   "outputs": [],
   "source": [
    "common_words = k_cluster(5)"
   ]
  },
  {
   "cell_type": "code",
   "execution_count": 71,
   "metadata": {},
   "outputs": [
    {
     "name": "stdout",
     "output_type": "stream",
     "text": [
      "class 0 :plan,new,council,charg,water,man,restrict,face,murder,polic,court,rain,fund,stab,hope,land,elect,secur,shire,park,welcom,manag,consid,war,group\n",
      "class 1 :war,polic,man,iraqi,say,warn,protest,claim,baghdad,kill,report,death,world,crash,anti,court,urg,miss,nsw,set,cup,troop,continu,fund,face\n",
      "class 2 :iraq,war,say,missil,troop,deni,post,blair,howard,bush,destroy,pm,report,bomb,british,forc,kill,turkey,attack,aid,warn,tv,resolut,blix,uk\n",
      "class 3 :govt,vic,nsw,sa,urg,fund,qld,wa,local,consid,claim,reject,fed,nt,tas,opp,say,plan,reform,deni,hospit,defend,review,issu,crean\n",
      "class 4 :win,lead,season,fan,m,goal,india,award,open,hope,tiger,championship,world,gold,return,titl,thriller,cup,coast,stage,streak,best,case,celebr,waratah\n"
     ]
    }
   ],
   "source": [
    "for i,centroid in enumerate(common_words):\n",
    "    print('class '+ str(i)+ ' :' + ','.join(word_features3[word] for word in centroid))"
   ]
  },
  {
   "cell_type": "code",
   "execution_count": null,
   "metadata": {},
   "outputs": [],
   "source": []
  }
 ],
 "metadata": {
  "kernelspec": {
   "display_name": "Python 3",
   "language": "python",
   "name": "python3"
  },
  "language_info": {
   "codemirror_mode": {
    "name": "ipython",
    "version": 3
   },
   "file_extension": ".py",
   "mimetype": "text/x-python",
   "name": "python",
   "nbconvert_exporter": "python",
   "pygments_lexer": "ipython3",
   "version": "3.7.4"
  }
 },
 "nbformat": 4,
 "nbformat_minor": 4
}
